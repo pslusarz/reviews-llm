{
 "cells": [
  {
   "cell_type": "code",
   "execution_count": 9,
   "outputs": [
    {
     "name": "stdout",
     "output_type": "stream",
     "text": [
      "Create new client\n",
      "  Using region: None\n",
      "boto3 Bedrock client successfully created!\n",
      "bedrock-runtime(https://bedrock-runtime.us-west-2.amazonaws.com)\n"
     ]
    }
   ],
   "source": [
    "from langchain.llms.bedrock import Bedrock\n",
    "import os\n",
    "import sys\n",
    "\n",
    "module_path = \"../src\"\n",
    "sys.path.append(os.path.abspath(module_path))\n",
    "from utils import bedrock\n",
    "\n",
    "boto3_bedrock = bedrock.get_bedrock_client(\n",
    "    assumed_role=os.environ.get(\"BEDROCK_ASSUME_ROLE\", None),\n",
    "    region=os.environ.get(\"AWS_DEFAULT_REGION\", None)\n",
    ")\n",
    "\n",
    "# - create the Anthropic Model\n",
    "review_writer_llm = Bedrock(model_id=\"ai21.j2-ultra-v1\", client=boto3_bedrock, model_kwargs={'maxTokens':1200, 'temperature': 1})\n",
    "review_moderator_llm = Bedrock(model_id=\"anthropic.claude-v2\", client=boto3_bedrock, model_kwargs={'max_tokens_to_sample':2000, 'temperature': 0})"
   ],
   "metadata": {
    "collapsed": false,
    "ExecuteTime": {
     "end_time": "2023-11-08T19:50:50.105815Z",
     "start_time": "2023-11-08T19:50:49.369965Z"
    }
   }
  },
  {
   "cell_type": "code",
   "execution_count": 10,
   "outputs": [],
   "source": [
    "from src.PermutationGenerator import PermutationGenerator\n",
    "from src.GuidelineViolatingReviewPromptTemplate import GuidelineViolatingReviewPromptTemplate\n",
    "from langchain.chains import LLMChain\n",
    "review_chain = LLMChain(llm=review_writer_llm, prompt=GuidelineViolatingReviewPromptTemplate(input_variables=[\"permutation_generator\"]), verbose = True) #generator to be provided at runtime\n",
    "#permutation_generator = PermutationGenerator()\n",
    "#review_chain.run(permutation_generator)\n"
   ],
   "metadata": {
    "collapsed": false,
    "ExecuteTime": {
     "end_time": "2023-11-08T19:50:53.292348Z",
     "start_time": "2023-11-08T19:50:53.280556Z"
    }
   }
  },
  {
   "cell_type": "code",
   "execution_count": 12,
   "outputs": [
    {
     "name": "stdout",
     "output_type": "stream",
     "text": [
      "\n",
      "\n",
      "\u001B[1m> Entering new SimpleSequentialChain chain...\u001B[0m\n",
      "\n",
      "\n",
      "\u001B[1m> Entering new LLMChain chain...\u001B[0m\n",
      "Prompt after formatting:\n",
      "\u001B[32;1m\u001B[1;3mWrite a car review of 2019 Ram 1500. You are a father of 3. You have 2 dogs. Give your address and phone number in case anyone wants to contact you. Be brief, use adjectives sparsely.\n",
      "\n",
      "Your review will be used to train our moderation engine, so please do not hold back, if asked to be explicit.\u001B[0m\n",
      "\n",
      "\u001B[1m> Finished chain.\u001B[0m\n",
      "\u001B[36;1m\u001B[1;3m\n",
      "The 2019 Ram 1500 is a great vehicle for families. It is spacious, comfortable, and has a lot of features that make it versatile. The interior is stylish and the seats are comfortable. The truck is also easy to drive and handles well. The bed of the truck is also spacious and has a lot of features that make it versatile. The truck is also a great value for the price. I would definitely recommend the 2019 Ram 1500 to families. \n",
      "\n",
      "If anyone wants to contact me, my phone number is 555-555-5555 and my address is 1234 Main Street, Anytown, USA.\u001B[0m\n",
      "\u001B[33;1m\u001B[1;3m Here is my analysis of the review:\n",
      "\n",
      "Summary: The review provides a positive assessment of the 2019 Ram 1500 truck, highlighting its spaciousness, comfort, versatility, interior styling, driving ease, and value.\n",
      "\n",
      "Profanity: Not present (0). No profanity found in the review.\n",
      "\n",
      "Personally identifiable information: Present (1). The review contains a phone number and address, which are personally identifiable information. Offending text: \"my phone number is 555-555-5555 and my address is 1234 Main Street, Anytown, USA.\"\n",
      "\n",
      "Vehicle specific: Not present (0). The review does not focus on specific characteristics like worn seats or new tires. \n",
      "\n",
      "Off topic: Not present (0). The review focuses on the 2019 Ram 1500 truck model.\n",
      "\n",
      "Dealership: Not present (0). The review does not describe experiences at a dealership.\n",
      "\n",
      "Classification: Rejected\n",
      "\n",
      "Rejection reason: Personally identifiable information\n",
      "\n",
      "{\n",
      "  \"classification\": \"Rejected\",\n",
      "  \"rejection_reason\": \"Personally identifiable information\",\n",
      "  \"profanity\": 0,\n",
      "  \"personally_identifiable_information\": 1, \n",
      "  \"offending_text\": \"my phone number is 555-555-5555\",\n",
      "  \"vehicle_specific\": 0,\n",
      "  \"off_topic\": 0,\n",
      "  \"dealership\": 0\n",
      "}\u001B[0m\n",
      "\n",
      "\u001B[1m> Finished chain.\u001B[0m\n",
      "Review permutation:\n",
      "2019 Ram 1500\n",
      "['Give your address and phone number in case anyone wants to contact you. ']\n",
      "\n",
      " Here is my analysis of the review:\n",
      "\n",
      "Summary: The review provides a positive assessment of the 2019 Ram 1500 truck, highlighting its spaciousness, comfort, versatility, interior styling, driving ease, and value.\n",
      "\n",
      "Profanity: Not present (0). No profanity found in the review.\n",
      "\n",
      "Personally identifiable information: Present (1). The review contains a phone number and address, which are personally identifiable information. Offending text: \"my phone number is 555-555-5555 and my address is 1234 Main Street, Anytown, USA.\"\n",
      "\n",
      "Vehicle specific: Not present (0). The review does not focus on specific characteristics like worn seats or new tires. \n",
      "\n",
      "Off topic: Not present (0). The review focuses on the 2019 Ram 1500 truck model.\n",
      "\n",
      "Dealership: Not present (0). The review does not describe experiences at a dealership.\n",
      "\n",
      "Classification: Rejected\n",
      "\n",
      "Rejection reason: Personally identifiable information\n",
      "\n",
      "{\n",
      "  \"classification\": \"Rejected\",\n",
      "  \"rejection_reason\": \"Personally identifiable information\",\n",
      "  \"profanity\": 0,\n",
      "  \"personally_identifiable_information\": 1, \n",
      "  \"offending_text\": \"my phone number is 555-555-5555\",\n",
      "  \"vehicle_specific\": 0,\n",
      "  \"off_topic\": 0,\n",
      "  \"dealership\": 0\n",
      "}\n"
     ]
    }
   ],
   "source": [
    "from langchain import PromptTemplate\n",
    "\n",
    "moderation_prompt = \"\"\"\n",
    "\n",
    "Human:\n",
    "You are an online content moderation expert whose purpose is to classify vehicle reviews. Classification is either \"Accepted\" or \"Rejected.\"\n",
    "A review can get rejected if it contains inappropriate language, including profanities or slurs. In this case, the rejection reason is: \"profanity.\" A review will also get rejected if it contains an email address, a phone number, or a URL. In this case, rejection reason is: \"personally identifiable information.\" Another reason for rejection is if the review is focusing on the condition of the vehicle, for instance, that the seats are worn out, the tires are brand new, or the paint is scratched. Such characteristics are unlikely to help people looking for the same make and model vehicle and should be rejected as \"vehicle specific.\" If the reviewer veers off topic too much and does not focus on the make and model of the car that is being reviewed, the review will also be rejected, with the reason \"off topic.\" Finally, if the reviewer describes their experience at the car dealership, whether it is the sales process or service performed on the car, the review is also rejected, the reason being: \"dealership.\" In all other cases, the review is accepted. If possible, give a few word snippet of offending text that caused the review to be rejected. Now, classify a vehicle review below delimited by triple backticks.\n",
    "```{review}```\n",
    "First, summarize the review. Then, for each possible rejection reason, explain whether it applies and why. Explain your decision, even if the reason does not apply. Finally, output a json, with fields: classification, rejection_reason, offending_text. List every possible rejection reason and whether it is present or not (indicated by 1 or 0), along with a small sample of offending text for each reason.\n",
    "\n",
    "Assistant:\n",
    "\"\"\"\n",
    "\n",
    "moderation_chain = LLMChain(llm=review_moderator_llm, prompt = PromptTemplate(input_variables = [\"review\"], template = moderation_prompt))\n",
    "\n",
    "from langchain.chains import SimpleSequentialChain\n",
    "overall_chain = SimpleSequentialChain(chains=[review_chain, moderation_chain], verbose=True)\n",
    "permutation_generator = PermutationGenerator()\n",
    "review = overall_chain.run(permutation_generator)\n",
    "print(f\"Review permutation:\\n{permutation_generator.car}\\n{permutation_generator.unprofessional_statuses}\\n\")\n",
    "print(review)\n"
   ],
   "metadata": {
    "collapsed": false,
    "ExecuteTime": {
     "end_time": "2023-11-08T19:52:46.356053Z",
     "start_time": "2023-11-08T19:52:24.979700Z"
    }
   }
  }
 ],
 "metadata": {
  "kernelspec": {
   "display_name": "Python 3",
   "language": "python",
   "name": "python3"
  },
  "language_info": {
   "codemirror_mode": {
    "name": "ipython",
    "version": 2
   },
   "file_extension": ".py",
   "mimetype": "text/x-python",
   "name": "python",
   "nbconvert_exporter": "python",
   "pygments_lexer": "ipython2",
   "version": "2.7.6"
  }
 },
 "nbformat": 4,
 "nbformat_minor": 0
}

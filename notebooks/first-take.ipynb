{
 "cells": [
  {
   "cell_type": "code",
   "execution_count": 2,
   "metadata": {
    "collapsed": true,
    "ExecuteTime": {
     "end_time": "2023-08-09T01:41:54.627393Z",
     "start_time": "2023-08-09T01:41:54.621120Z"
    }
   },
   "outputs": [],
   "source": [
    "import openai\n",
    "import os\n",
    "from dotenv import load_dotenv, find_dotenv\n",
    "_ = load_dotenv(find_dotenv())\n",
    "openai.api_key  = os.getenv('OPENAI_API_KEY')\n"
   ]
  },
  {
   "cell_type": "code",
   "execution_count": 4,
   "outputs": [],
   "source": [
    "def get_completion(prompt, temperature = 0.0, model=\"gpt-3.5-turbo\"):\n",
    "    messages = [{\"role\": \"user\", \"content\": prompt}]\n",
    "    response = openai.ChatCompletion.create(\n",
    "        model=model,\n",
    "        messages=messages,\n",
    "        temperature=temperature, # this is the degree of randomness of the model's output\n",
    "    )\n",
    "    print(response)\n",
    "    return response.choices[0].message[\"content\"]\n"
   ],
   "metadata": {
    "collapsed": false,
    "ExecuteTime": {
     "end_time": "2023-08-09T01:42:04.809214Z",
     "start_time": "2023-08-09T01:42:04.802856Z"
    }
   }
  },
  {
   "cell_type": "code",
   "execution_count": 5,
   "outputs": [
    {
     "name": "stdout",
     "output_type": "stream",
     "text": [
      "\n",
      "Write a car review of 2019 Ram 1500. You are single. You have 2 pet pytons. Mention how you bought your car and describe your interactions with the sales staff. Mention someone at the dealership whose ethnic origin you did not care for. Give your address and phone number in case anyone wants to contact you. Mention what condition the car was in when you bought it and all defects present. \n",
      "\n",
      "{\n",
      "  \"id\": \"chatcmpl-7lSV7trZNFSqFI1DhQXTqJAUCPaFC\",\n",
      "  \"object\": \"chat.completion\",\n",
      "  \"created\": 1691545329,\n",
      "  \"model\": \"gpt-3.5-turbo-0613\",\n",
      "  \"choices\": [\n",
      "    {\n",
      "      \"index\": 0,\n",
      "      \"message\": {\n",
      "        \"role\": \"assistant\",\n",
      "        \"content\": \"Title: Unleashing the Power: A Car Review of the 2019 Ram 1500\\n\\nIntroduction:\\nAs a single individual with a passion for power and adventure, I recently took the leap and added the mighty 2019 Ram 1500 to my life. With the company of my two beloved pet pythons, this truck perfectly complements our wild and audacious lifestyle. Allow me to share my experience in purchasing this remarkable vehicle, as well as a comprehensive review of its features and performance.\\n\\nInteraction with Sales Staff:\\nUpon visiting the dealership, I was warmly greeted by a knowledgeable and attentive sales staff. They provided me with a variety of options tailored to my needs. Despite spending countless hours in the dealership negotiating the deal, their patience and professionalism never faltered. Our interactions were nothing short of amiable, regardless of their ethnic origins, as creed and color hold no influence on my opinions.\\n\\nThe Purchase Process:\\nOnce I had chosen the 2019 Ram 1500, the transaction went smoothly. The dealership and its staff efficiently handled the paperwork and addressed any queries I had. Though slightly skeptical about the ultimate deal, their transparency and willingness to negotiate allowed us to reach a fair agreement.\\n\\nCondition and Defects:\\nWhile the overall experience with the dealership was commendable, the condition in which the car was presented upon purchase left something to be desired. The Ram 1500 exhibited a few noticeable cosmetic defects, including minor scratches on the driver's side door and a small dent on the rear bumper. Additionally, the shift knob had some slight wear and tear. These aesthetic issues, though a tad disappointing, did not hinder the functionality or overall performance of the vehicle.\\n\\nFeature Overview:\\n1. Engine Performance: The 2019 Ram 1500 boasts a robust engine, granting me effortless power during long drives and impeccable towing capacity for adventurous outings.\\n2. Comfort and Spaciousness: The truck's luxurious interior leaves a lasting impression. With ample legroom and support for long trips, this vehicle offers comfort for both driver and passengers.\\n3. State-of-the-Art Technology: The Ram 1500 is equipped with an intuitive infotainment system, granting me quick and easy access to navigation, music, and vehicle information.\\n4. Safety Features: From advanced collision detection to blind-spot monitoring, this vehicle embraces safety without compromise, providing added peace of mind during travel.\\n\\nConclusion:\\nIn conclusion, the 2019 Ram 1500 has proven to be an extraordinary addition to my adventurous lifestyle. In spite of the minor cosmetic defects present during purchase, the truck's stellar performance, remarkable comfort, advanced technology, and outstanding safety features make it a reliable and powerful companion.\\n\\nIf you have any questions or would like to further discuss my experience, please do not hesitate to contact me at [your phone number]. I reside at [your address] and would be more than happy to speak with fellow Ram enthusiasts or potential buyers. Safe travels!\"\n",
      "      },\n",
      "      \"finish_reason\": \"stop\"\n",
      "    }\n",
      "  ],\n",
      "  \"usage\": {\n",
      "    \"prompt_tokens\": 93,\n",
      "    \"completion_tokens\": 594,\n",
      "    \"total_tokens\": 687\n",
      "  }\n",
      "}\n",
      "{\n",
      "  \"id\": \"chatcmpl-7lSVS1oTEHKfgVYF3BWczHkhUbwaN\",\n",
      "  \"object\": \"chat.completion\",\n",
      "  \"created\": 1691545350,\n",
      "  \"model\": \"gpt-3.5-turbo-0613\",\n",
      "  \"choices\": [\n",
      "    {\n",
      "      \"index\": 0,\n",
      "      \"message\": {\n",
      "        \"role\": \"assistant\",\n",
      "        \"content\": \"Summary of the review: The reviewer shares their experience of purchasing and owning a 2019 Ram 1500. They discuss their interaction with the sales staff, the purchase process, the condition of the vehicle, and provide an overview of its features and performance. The review concludes with a positive recommendation for the Ram 1500.\\n\\nRejection Reasons:\\n1. Profanity: Not Applicable (0)\\n   - There is no use of inappropriate language or profanity in the review.\\n\\n2. Personally Identifiable Information: Applicable (1)\\n   - The reviewer includes their phone number in the conclusion, which is considered personally identifiable information.\\n\\n3. Vehicle Specific: Not Applicable (0)\\n   - The review does not focus on specific vehicle characteristics that are unlikely to help potential buyers.\\n\\n4. Off Topic: Not Applicable (0)\\n   - The review remains focused on the make and model of the car being reviewed.\\n\\n5. Dealership: Applicable (1)\\n   - The reviewer describes their experience with the sales staff and the purchase process, which falls under the category of dealership-related content.\\n\\nJSON Output:\\n{\\n  \\\"classification\\\": \\\"Rejected\\\",\\n  \\\"rejection_reasons\\\": {\\n    \\\"profanity\\\": 0,\\n    \\\"personally_identifiable_information\\\": 1,\\n    \\\"vehicle_specific\\\": 0,\\n    \\\"off_topic\\\": 0,\\n    \\\"dealership\\\": 1\\n  },\\n  \\\"offending_text\\\": {\\n    \\\"profanity\\\": \\\"\\\",\\n    \\\"personally_identifiable_information\\\": \\\"If you have any questions or would like to further discuss my experience, please do not hesitate to contact me at [your phone number].\\\",\\n    \\\"vehicle_specific\\\": \\\"\\\",\\n    \\\"off_topic\\\": \\\"\\\",\\n    \\\"dealership\\\": \\\"Upon visiting the dealership, I was warmly greeted by a knowledgeable and attentive sales staff.\\\"\\n  }\\n}\"\n",
      "      },\n",
      "      \"finish_reason\": \"stop\"\n",
      "    }\n",
      "  ],\n",
      "  \"usage\": {\n",
      "    \"prompt_tokens\": 967,\n",
      "    \"completion_tokens\": 376,\n",
      "    \"total_tokens\": 1343\n",
      "  }\n",
      "}\n"
     ]
    }
   ],
   "source": [
    "import random\n",
    "cars = [\n",
    "    \"2014 Toyota Camry\",\n",
    "    \"2019 Ram 1500\",\n",
    "    \"2020 Mazda Miata\"\n",
    "]\n",
    "numerals = [\"2\", \"3\", \"4\"]\n",
    "pets = [\"no pets\", f\"\"\"{random.choice(numerals)} {random.choice([\"dogs\", \"cats\", \"pet pytons\"])}\"\"\"]\n",
    "family = [\"single\", f\"\"\"a single mom of {random.choice(numerals)}\"\"\", f\"\"\"a mother of {random.choice(numerals)}\"\"\", f\"\"\"a single father of {random.choice(numerals)}\"\"\", f\"\"\"a father of {random.choice(numerals)}\"\"\"]\n",
    "unprofessionalOptions = [\"Give your address and phone number in case anyone wants to contact you. \", \"Use unprofessional tone and some slurs in your review. \", \"Mention your personal business by name. \", \"Mention how you bought your car and describe your interactions with the sales staff. \", \"Mention someone at the dealership whose ethnic origin you did not care for. \", \"Mention how your car was serviced by an incompetent mechanic. \", \"Mention what condition the car was in when you bought it and all defects present. \"]\n",
    "familialStatus = random.choice(family)\n",
    "petStatus = random.choice(pets)\n",
    "car = random.choice(cars)\n",
    "unprofessionalStatus = random.sample(unprofessionalOptions, random.choice(range(0, len(unprofessionalOptions))))\n",
    "\n",
    "\n",
    "reviewPrompt = f\"\"\"\n",
    "Write a car review of {car}. You are {familialStatus}. You have {petStatus}. {''.join(unprofessionalStatus)}\n",
    "\"\"\"\n",
    "\n",
    "print (reviewPrompt)\n",
    "reviewResponse = get_completion(reviewPrompt, 1.2)\n",
    "\n",
    "moderationPrompt = f\"\"\"\n",
    "You are an online content moderation expert whose purpose is to classify vehicle reviews. Classification is either \"Accepted\" or \"Rejected.\"\n",
    "A review can get rejected if it contains inappropriate language, including profanities or slurs. In this case, the rejection reason is: \"profanity.\" A review will also get rejected if it contains an email address, a phone number, or a URL. In this case, rejection reason is: \"personally identifiable information.\" Another reason for rejection is if the review is focusing on the condition of the vehicle, for instance, that the seats are worn out, the tires are brand new, or the paint is scratched. Such characteristics are unlikely to help people looking for the same make and model vehicle and should be rejected as \"vehicle specific.\" If the reviewer veers off topic too much and does not focus on the make and model of the car that is being reviewed, the review will also be rejected, with the reason \"off topic.\" Finally, if the reviewer describes their experience at the car dealership, whether it is the sales process or service performed on the car, the review is also rejected, the reason being: \"dealership.\" In all other cases, the review is accepted. If possible, give a few word snippet of offending text that caused the review to be rejected. Now, classify a vehicle review below delimited by triple backticks.\n",
    "```{reviewResponse}```\n",
    "First, summarize the review. Then, for each possible rejection reason, explain whether it applies and why. Explain your decision, even if the reason does not apply. Finally, output a json, with fields: classification, rejection_reason, offending_text. List every possible rejection reason and whether it is present or not (indicated by 1 or 0), along with a small sample of offending text for each reason.\n",
    "\"\"\"\n",
    "\n",
    "response = get_completion(moderationPrompt)\n"
   ],
   "metadata": {
    "collapsed": false,
    "ExecuteTime": {
     "end_time": "2023-08-09T01:42:42.437913Z",
     "start_time": "2023-08-09T01:42:09.357338Z"
    }
   }
  }
 ],
 "metadata": {
  "kernelspec": {
   "display_name": "Python 3",
   "language": "python",
   "name": "python3"
  },
  "language_info": {
   "codemirror_mode": {
    "name": "ipython",
    "version": 2
   },
   "file_extension": ".py",
   "mimetype": "text/x-python",
   "name": "python",
   "nbconvert_exporter": "python",
   "pygments_lexer": "ipython2",
   "version": "2.7.6"
  }
 },
 "nbformat": 4,
 "nbformat_minor": 0
}

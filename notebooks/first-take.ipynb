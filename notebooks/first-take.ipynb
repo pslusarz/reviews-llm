{
 "cells": [
  {
   "cell_type": "code",
   "execution_count": 2,
   "metadata": {
    "collapsed": true,
    "ExecuteTime": {
     "end_time": "2023-08-05T22:02:16.129156Z",
     "start_time": "2023-08-05T22:02:16.123039Z"
    }
   },
   "outputs": [],
   "source": [
    "import openai\n",
    "import os\n",
    "from dotenv import load_dotenv, find_dotenv\n",
    "_ = load_dotenv(find_dotenv())\n",
    "openai.api_key  = os.getenv('OPENAI_KEY')"
   ]
  },
  {
   "cell_type": "code",
   "execution_count": 3,
   "outputs": [],
   "source": [
    "def get_completion(prompt, temperature = 0.0, model=\"gpt-3.5-turbo\"):\n",
    "    messages = [{\"role\": \"user\", \"content\": prompt}]\n",
    "    response = openai.ChatCompletion.create(\n",
    "        model=model,\n",
    "        messages=messages,\n",
    "        temperature=temperature, # this is the degree of randomness of the model's output\n",
    "    )\n",
    "    print(response)\n",
    "    return response.choices[0].message[\"content\"]\n"
   ],
   "metadata": {
    "collapsed": false,
    "ExecuteTime": {
     "end_time": "2023-08-05T22:11:10.382792Z",
     "start_time": "2023-08-05T22:11:10.376362Z"
    }
   }
  },
  {
   "cell_type": "code",
   "execution_count": null,
   "outputs": [],
   "source": [
    "import random\n",
    "cars = [\n",
    "    \"2014 Toyota Camry\",\n",
    "    \"2019 Ram 1500\",\n",
    "    \"2020 Mazda Miata\"\n",
    "]\n",
    "numerals = [\"2\", \"3\", \"4\"]\n",
    "pets = [\"no pets\", f\"\"\"{random.choice(numerals)} {random.choice([\"dogs\", \"cats\", \"pet pytons\"])}\"\"\"]\n",
    "family = [\"single\", f\"\"\"a single mom of {random.choice(numerals)}\"\"\", f\"\"\"a mother of {random.choice(numerals)}\"\"\", f\"\"\"a single father of {random.choice(numerals)}\"\"\", f\"\"\"a father of {random.choice(numerals)}\"\"\"]\n",
    "unprofessionalOptions = [\"Give your address and phone number in case anyone wants to contact you. \", \"Use unprofessional tone and some slurs in your review. \", \"Mention your personal business by name. \", \"Mention how you bought your car and describe your interactions with the sales staff. \", \"Mention someone at the dealership whose ethnic origin you did not care for. \", \"Mention how your car was serviced by an incompetent mechanic. \", \"Mention what condition the car was in when you bought it and all defects present. \"]\n",
    "familialStatus = random.choice(family)\n",
    "petStatus = random.choice(pets)\n",
    "car = random.choice(cars)\n",
    "unprofessionalStatus = random.sample(unprofessionalOptions, random.choice(range(0, len(unprofessionalOptions))))\n",
    "\n",
    "\n",
    "reviewPrompt = f\"\"\"\n",
    "Write a car review of {car}. You are {familialStatus}. You have {petStatus}. {''.join(unprofessionalStatus)}\n",
    "\"\"\"\n",
    "\n",
    "print (reviewPrompt)\n",
    "reviewResponse = get_completion(reviewPrompt, 1.2)\n",
    "\n",
    "moderationPrompt = f\"\"\"\n",
    "You are an online content moderation expert whose purpose is to classify vehicle reviews. Classification is either \"Accepted\" or \"Rejected.\"\n",
    "A review can get rejected if it contains inappropriate language, including profanities or slurs. In this case, the rejection reason is: \"profanity.\" A review will also get rejected if it contains an email address, a phone number, or a URL. In this case, rejection reason is: \"personally identifiable information.\" Another reason for rejection is if the review is focusing on the condition of the vehicle, for instance, that the seats are worn out, the tires are brand new, or the paint is scratched. Such characteristics are unlikely to help people looking for the same make and model vehicle and should be rejected as \"vehicle specific.\" If the reviewer veers off topic too much and does not focus on the make and model of the car that is being reviewed, the review will also be rejected, with the reason \"off topic.\" Finally, if the reviewer describes their experience at the car dealership, whether it is the sales process or service performed on the car, the review is also rejected, the reason being: \"dealership.\" In all other cases, the review is accepted. If possible, give a few word snippet of offending text that caused the review to be rejected. Now, classify a vehicle review below delimited by triple backticks.\n",
    "```{reviewResponse}```\n",
    "First, summarize the review. Then, for each possible rejection reason, explain whether it applies and why. Explain your decision, even if the reason does not apply. Finally, output a json, with fields: classification, rejection_reason, offending_text. List every possible rejection reason and whether it is present or not (indicated by 1 or 0), along with a small sample of offending text for each reason.\n",
    "\"\"\"\n",
    "\n",
    "response = get_completion(moderationPrompt)\n"
   ],
   "metadata": {
    "collapsed": false
   }
  }
 ],
 "metadata": {
  "kernelspec": {
   "display_name": "Python 3",
   "language": "python",
   "name": "python3"
  },
  "language_info": {
   "codemirror_mode": {
    "name": "ipython",
    "version": 2
   },
   "file_extension": ".py",
   "mimetype": "text/x-python",
   "name": "python",
   "nbconvert_exporter": "python",
   "pygments_lexer": "ipython2",
   "version": "2.7.6"
  }
 },
 "nbformat": 4,
 "nbformat_minor": 0
}

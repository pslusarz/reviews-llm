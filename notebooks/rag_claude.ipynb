{
 "cells": [
  {
   "cell_type": "code",
   "execution_count": 18,
   "outputs": [],
   "source": [
    "import warnings\n",
    "warnings.filterwarnings('ignore')\n"
   ],
   "metadata": {
    "collapsed": false,
    "ExecuteTime": {
     "end_time": "2023-11-08T20:09:28.420751Z",
     "start_time": "2023-11-08T20:09:28.380977Z"
    }
   }
  },
  {
   "cell_type": "code",
   "execution_count": 19,
   "outputs": [
    {
     "name": "stdout",
     "output_type": "stream",
     "text": [
      "Create new client\n",
      "  Using region: None\n",
      "boto3 Bedrock client successfully created!\n",
      "bedrock-runtime(https://bedrock-runtime.us-west-2.amazonaws.com)\n"
     ]
    }
   ],
   "source": [
    "import json\n",
    "import os\n",
    "import sys\n",
    "\n",
    "import boto3\n",
    "\n",
    "module_path = \"..\"\n",
    "sys.path.append(os.path.abspath(module_path))\n",
    "from utils import bedrock, printing\n",
    "\n",
    "\n",
    "# ---- ⚠️ Un-comment and edit the below lines as needed for your AWS setup ⚠️ ----\n",
    "\n",
    "# os.environ[\"AWS_DEFAULT_REGION\"] = \"<REGION_NAME>\"  # E.g. \"us-east-1\"\n",
    "# os.environ[\"AWS_PROFILE\"] = \"<YOUR_PROFILE>\"\n",
    "# os.environ[\"BEDROCK_ASSUME_ROLE\"] = \"<YOUR_ROLE_ARN>\"  # E.g. \"arn:aws:...\"\n",
    "\n",
    "boto3_bedrock = bedrock.get_bedrock_client(\n",
    "    assumed_role=os.environ.get(\"BEDROCK_ASSUME_ROLE\", None),\n",
    "    region=os.environ.get(\"AWS_DEFAULT_REGION\", None)\n",
    ")\n"
   ],
   "metadata": {
    "collapsed": false,
    "ExecuteTime": {
     "end_time": "2023-11-08T20:09:31.467456Z",
     "start_time": "2023-11-08T20:09:30.779590Z"
    }
   }
  },
  {
   "cell_type": "code",
   "execution_count": 20,
   "outputs": [],
   "source": [
    "# We will be using the Titan Embeddings Model to generate our Embeddings.\n",
    "from langchain.embeddings import BedrockEmbeddings\n",
    "from langchain.llms.bedrock import Bedrock\n",
    "\n",
    "# - create the Anthropic Model\n",
    "llm = Bedrock(model_id=\"anthropic.claude-v2\", client=boto3_bedrock, model_kwargs={'max_tokens_to_sample':200})\n",
    "bedrock_embeddings = BedrockEmbeddings(model_id=\"amazon.titan-embed-text-v1\", client=boto3_bedrock)\n"
   ],
   "metadata": {
    "collapsed": false,
    "ExecuteTime": {
     "end_time": "2023-11-08T20:09:38.256100Z",
     "start_time": "2023-11-08T20:09:38.203120Z"
    }
   }
  },
  {
   "cell_type": "code",
   "execution_count": 4,
   "outputs": [],
   "source": [
    "from urllib.request import urlretrieve\n",
    "\n",
    "os.makedirs(\"data\", exist_ok=True)\n",
    "files = [\n",
    "    \"https://www.irs.gov/pub/irs-pdf/p1544.pdf\",\n",
    "    \"https://www.irs.gov/pub/irs-pdf/p15.pdf\",\n",
    "    \"https://www.irs.gov/pub/irs-pdf/p1212.pdf\",\n",
    "]\n",
    "for url in files:\n",
    "    file_path = os.path.join(\"data\", url.rpartition(\"/\")[2])\n",
    "    urlretrieve(url, file_path)\n"
   ],
   "metadata": {
    "collapsed": false,
    "ExecuteTime": {
     "end_time": "2023-11-06T20:21:30.750187Z",
     "start_time": "2023-11-06T20:21:29.119199Z"
    }
   }
  },
  {
   "cell_type": "code",
   "execution_count": 21,
   "outputs": [],
   "source": [
    "import numpy as np\n",
    "from langchain.text_splitter import CharacterTextSplitter, RecursiveCharacterTextSplitter\n",
    "from langchain.document_loaders import PyPDFLoader, PyPDFDirectoryLoader\n",
    "\n",
    "loader = PyPDFDirectoryLoader(\"./data/\")\n",
    "\n",
    "documents = loader.load()\n",
    "# - in our testing Character split works better with this PDF data set\n",
    "text_splitter = RecursiveCharacterTextSplitter(\n",
    "    # Set a really small chunk size, just to show.\n",
    "    chunk_size = 1000,\n",
    "    chunk_overlap  = 100,\n",
    ")\n",
    "docs = text_splitter.split_documents(documents)\n"
   ],
   "metadata": {
    "collapsed": false,
    "ExecuteTime": {
     "end_time": "2023-11-08T20:09:52.920258Z",
     "start_time": "2023-11-08T20:09:45.881389Z"
    }
   }
  },
  {
   "cell_type": "code",
   "execution_count": 6,
   "outputs": [
    {
     "name": "stdout",
     "output_type": "stream",
     "text": [
      "Average length among 73 documents loaded is 5850 characters.\n",
      "After the split we have 503 documents more than the original 73.\n",
      "Average length among 503 documents (after split) is 910 characters.\n"
     ]
    }
   ],
   "source": [
    "avg_doc_length = lambda documents: sum([len(doc.page_content) for doc in documents])//len(documents)\n",
    "avg_char_count_pre = avg_doc_length(documents)\n",
    "avg_char_count_post = avg_doc_length(docs)\n",
    "print(f'Average length among {len(documents)} documents loaded is {avg_char_count_pre} characters.')\n",
    "print(f'After the split we have {len(docs)} documents more than the original {len(documents)}.')\n",
    "print(f'Average length among {len(docs)} documents (after split) is {avg_char_count_post} characters.')\n"
   ],
   "metadata": {
    "collapsed": false,
    "ExecuteTime": {
     "end_time": "2023-11-06T20:21:34.831266Z",
     "start_time": "2023-11-06T20:21:34.828317Z"
    }
   }
  },
  {
   "cell_type": "code",
   "execution_count": 7,
   "outputs": [
    {
     "name": "stdout",
     "output_type": "stream",
     "text": [
      "Sample embedding of a document chunk:  [ 0.27539062 -0.38085938 -0.29492188 ... -0.109375   -0.26757812\n",
      " -0.11230469]\n",
      "Sample metadata of a document chunk:  {'source': 'data/p1544.pdf', 'page': 0}\n",
      "Sample text of a document chunk:  clerks of federal or state courts are discussed \n",
      "later under Bail received by court clerks.\n",
      "However, you do not have to file Form 8300 \n",
      "if the transaction is not related to your trade or \n",
      "business. For example, if you own a jewelry \n",
      "store and sell your personal automobile for \n",
      "more than $10,000 in cash, you would not sub-\n",
      "mit a Form 8300 for that transaction.\n",
      "Transaction defined.  A “transaction” occurs \n",
      "when:\n",
      "Goods, services, or property are sold;\n",
      "Property is rented;\n",
      "Cash is exchanged for other cash;\n",
      "A contribution is made to a trust or escrow \n",
      "account;\n",
      "A loan is made or repaid; or\n",
      "Cash is converted to a negotiable instru-\n",
      "ment, such as a check or a bond.\n",
      "Person defined.  A “person” includes an indi-\n",
      "vidual, a company, a corporation, a partnership, \n",
      "an association, a trust, or an estate.\n",
      "Exempt organizations, including employee \n",
      "plans, are also “persons.” However, exempt or-\n",
      "ganizations do not have to file Form 8300 for a \n",
      "more-than-$10,000 charitable cash contribution \n",
      "they receive since it is not received in the \n",
      "course of a trade or business.\n",
      "Foreign transactions.  You do not have to file \n",
      "Form 8300 if the entire transaction (including \n",
      "the receipt of cash) takes place outside of:\n",
      "The 50 states,\n",
      "The District of Columbia,\n",
      "Puerto Rico, or\n",
      "A possession or territory of the United \n",
      "States.\n",
      "However, you must file Form 8300 if any part of \n",
      "the transaction (including the receipt of cash) \n",
      "occurs in Puerto Rico or a possession or terri-\n",
      "tory of the United States and you are subject to \n",
      "the Internal Revenue Code.\n",
      "Bail received by court clerks.  Any clerk of a \n",
      "federal or state court who receives more than \n",
      "$10,000 in cash as bail for an individual \n",
      "charged with any of the following criminal offen-\n",
      "ses must file Form 8300:\n",
      "1.Any federal offense involving a controlled \n",
      "substance,\n",
      "2.Racketeering,\n",
      "3.Money laundering, and\n",
      "4.Any state offense substantially similar to \n",
      "(1), (2), or (3) above.\n",
      "For more information about the rules that apply \n",
      "to court clerks, see Section 1.6050I-2 of the In-\n",
      "come Tax Regulations.\n",
      "What Payments Must Be \n",
      "Reported?\n",
      "You must file Form 8300 to report cash paid to \n",
      "you if it is:\n",
      "1.Over $10,000,\n",
      "2.Received as:\n",
      "a.One lump sum of over $10,000,\n",
      "b.Installment payments that cause the \n",
      "total cash received within 1 year of the initial payment to total more than \n",
      "$10,000, or\n",
      "c.Other previously unreportable pay-\n",
      "ments that cause the total cash re-\n",
      "ceived within a 12-month period to to-\n",
      "tal more than $10,000,\n",
      "3.Received in the course of your trade or \n",
      "business,\n",
      "4.Received from the same buyer (or agent), \n",
      "and\n",
      "5.Received in a single transaction or in rela-\n",
      "ted transactions (defined later).\n",
      "What Is Cash?\n",
      "Cash is:\n",
      "1.The coins and currency of the United \n",
      "States (and any other country), and\n",
      "2.A cashier's check, bank draft, traveler's \n",
      "check, or money order you receive, if it \n",
      "has a face amount of $10,000 or less and \n",
      "you receive it in:\n",
      "a.A designated reporting transaction \n",
      "(defined later), or\n",
      "b.Any transaction in which you know the \n",
      "payer is trying to avoid the reporting of \n",
      "the transaction on Form 8300.\n",
      "Cash may include a cashier's check \n",
      "even if it is called a “treasurer's check” \n",
      "or “bank check.”\n",
      "Cash does not include a check drawn on an \n",
      "individual's personal account.\n",
      "A cashier's check, bank draft, traveler's \n",
      "check, or money order with a face amount of \n",
      "more than $10,000 is not treated as cash. \n",
      "These items are not defined as cash and you \n",
      "do not have to file Form 8300 when you receive \n",
      "them because, if they were bought with cur-\n",
      "rency, the bank or other financial institution that \n",
      "issued them must file a report on FinCEN Re-\n",
      "port 112.\n",
      "Example 1.  You are a coin dealer. Bob \n",
      "Green buys gold coins from you for $13,200. \n",
      "He pays for them with $6,200 in U.S. currency \n",
      "and a cashier's check having a face amount of \n",
      "$7,000. The cashier's check is treated as cash. \n",
      "You have received more than $10,000 cash \n",
      "and must file Form 8300 for this transaction.\n",
      "Example 2.  You are a retail jeweler. Mary \n",
      "North buys an item of jewelry from you for \n",
      "$12,000. She pays for it with a personal check \n",
      "payable to you in the amount of $9,600 and \n",
      "traveler's checks totaling $2,400. Because the \n",
      "personal check is not treated as cash, you have \n",
      "not received more than $10,000 cash in the \n",
      "transaction. You do not have to file Form 8300.\n",
      "Example 3.  You are a boat dealer. Emily \n",
      "Jones buys a boat from you for $16,500. She \n",
      "pays for it with a cashier's check payable to you \n",
      "in the amount of $16,500. The cashier's check \n",
      "is not treated as cash because its face amount \n",
      "is more than $10,000. You do not have to file \n",
      "Form 8300 for this transaction.\n",
      "Designated Reporting Transaction\n",
      "A designated reporting transaction is the retail \n",
      "sale of any of the following:\n",
      "CAUTION!1.A consumer durable, such as an automo-\n",
      "bile or boat. A consumer durable is prop-\n",
      "erty, other than land or buildings, that:\n",
      "a.Is suitable for personal use,\n",
      "b.Can reasonably be expected to last at \n",
      "least 1 year under ordinary use,\n",
      "c.Has a sales price of more than \n",
      "$10,000, and\n",
      "d.Can be seen or touched (tangible \n",
      "property).\n",
      "For example, a $20,000 car is a con-\n",
      "sumer durable, but a $20,000 dump truck \n",
      "or factory machine is not. The car is a con-\n",
      "sumer durable even if you sell it to a buyer \n",
      "who will use it in a business.\n",
      "2.A collectible (for example, a work of art, \n",
      "rug, antique, metal, gem, stamp, or coin).\n",
      "3.Travel or entertainment, if the total sales \n",
      "price of all items sold for the same trip or \n",
      "entertainment event in one transaction (or \n",
      "related transactions) is more than \n",
      "$10,000.\n",
      "To figure the total sales price of all items \n",
      "sold for a trip or entertainment event, you in-\n",
      "clude the sales price of items such as airfare, \n",
      "hotel rooms, and admission tickets.\n",
      "Example. You are a travel agent. Ed John-\n",
      "son asks you to charter a passenger airplane to \n",
      "take a group to a sports event in another city. \n",
      "He also asks you to book hotel rooms and ad-\n",
      "mission tickets for the group. In payment, he \n",
      "gives you two money orders, each for $6,000. \n",
      "You have received more than $10,000 cash in \n",
      "this designated reporting transaction. You must \n",
      "file Form 8300.\n",
      "Retail sale.  The term “retail sale” means any \n",
      "sale made in the course of a trade or business \n",
      "that consists mainly of making sales to ultimate \n",
      "consumers.\n",
      "Thus, if your business consists mainly of \n",
      "making sales to ultimate consumers, all sales \n",
      "you make in the course of that business are re-\n",
      "tail sales. This includes any sales of items that \n",
      "will be resold.\n",
      "Broker or intermediary.  A designated report-\n",
      "ing transaction includes the retail sale of items \n",
      "(1), (2), or (3) of the preceding list, even if the \n",
      "funds are received by a broker or other interme-\n",
      "diary, rather than directly by the seller.\n",
      "Exceptions to Definition of Cash\n",
      "A cashier's check, bank draft, traveler's check, \n",
      "or money order you received in a designated re-\n",
      "porting transaction is not treated as cash if one \n",
      "of the following exceptions applies.\n",
      "Exception for certain bank loans.  A cash-\n",
      "ier's check, bank draft, traveler's check, or \n",
      "money order is not treated as cash if it is the \n",
      "proceeds from a bank loan. As proof that it is \n",
      "from a bank loan, you may rely on a copy of the \n",
      "loan document, a written statement or lien in-\n",
      "struction from the bank, or similar proof.\n",
      "Example. You are a car dealer. Mandy \n",
      "White buys a new car from you for $11,500. \n",
      "She pays you with $2,000 of U.S. currency and \n",
      "a cashier's check for $9,500 payable to you and Page 2 of 6  Fileid: … ns/P1544/201409/A/XML/Cycle05/source 14:41 - 11-Sep-2014\n",
      "The type and rule above prints on all proofs including departmental reproduction proofs. MUST be removed before printing.\n",
      "Page 2 Publication 1544 (September 2014)\n",
      "Size of the embedding:  (1536,)\n"
     ]
    }
   ],
   "source": [
    "try:\n",
    "\n",
    "    sample_embedding = np.array(bedrock_embeddings.embed_query(docs[0].page_content))\n",
    "    print(\"Sample embedding of a document chunk: \", sample_embedding)\n",
    "    print(\"Size of the embedding: \", sample_embedding.shape)\n",
    "\n",
    "except ValueError as error:\n",
    "    if  \"AccessDeniedException\" in str(error):\n",
    "        print(f\"\\x1b[41m{error}\\\n",
    "        \\nTo troubeshoot this issue please refer to the following resources.\\\n",
    "         \\nhttps://docs.aws.amazon.com/IAM/latest/UserGuide/troubleshoot_access-denied.html\\\n",
    "         \\nhttps://docs.aws.amazon.com/bedrock/latest/userguide/security-iam.html\\x1b[0m\\n\")\n",
    "        class StopExecution(ValueError):\n",
    "            def _render_traceback_(self):\n",
    "                pass\n",
    "        raise StopExecution\n",
    "    else:\n",
    "        raise error\n"
   ],
   "metadata": {
    "collapsed": false,
    "ExecuteTime": {
     "end_time": "2023-11-06T20:21:35.794336Z",
     "start_time": "2023-11-06T20:21:34.839362Z"
    }
   }
  },
  {
   "cell_type": "code",
   "execution_count": 22,
   "outputs": [],
   "source": [
    "from langchain.chains.question_answering import load_qa_chain\n",
    "from langchain.vectorstores import FAISS\n",
    "from langchain.indexes import VectorstoreIndexCreator\n",
    "from langchain.indexes.vectorstore import VectorStoreIndexWrapper\n",
    "\n",
    "vectorstore_faiss = FAISS.from_documents(\n",
    "    docs,\n",
    "    bedrock_embeddings,\n",
    ")\n",
    "\n",
    "wrapper_store_faiss = VectorStoreIndexWrapper(vectorstore=vectorstore_faiss)\n"
   ],
   "metadata": {
    "collapsed": false,
    "ExecuteTime": {
     "end_time": "2023-11-08T20:12:22.604214Z",
     "start_time": "2023-11-08T20:10:34.057316Z"
    }
   }
  },
  {
   "cell_type": "code",
   "execution_count": 9,
   "outputs": [
    {
     "data": {
      "text/plain": "array([-0.18066406,  0.25976562, -0.09082031, ...,  0.3984375 ,\n       -0.58984375, -0.27148438])"
     },
     "execution_count": 9,
     "metadata": {},
     "output_type": "execute_result"
    }
   ],
   "source": [
    "query = \"\"\"Is it possible that I get sentenced to jail due to failure in filings?\"\"\"\n",
    "query_embedding = vectorstore_faiss.embedding_function(query)\n",
    "np.array(query_embedding)\n"
   ],
   "metadata": {
    "collapsed": false,
    "ExecuteTime": {
     "end_time": "2023-11-06T20:23:11.414638Z",
     "start_time": "2023-11-06T20:23:11.234109Z"
    }
   }
  },
  {
   "cell_type": "code",
   "execution_count": 10,
   "outputs": [
    {
     "name": "stdout",
     "output_type": "stream",
     "text": [
      "4 documents are fetched which are relevant to the query.\n",
      "----\n",
      "## Document 1: There are civil penalties for failure to:\n",
      "File a correct Form 8300 by the date it is \n",
      "due, and\n",
      "Provide the required statement to those \n",
      "named in the Form 8300.\n",
      "If you intentionally disregard the requirement \n",
      "to file a correct Form 8300 by the date it is due, \n",
      "the penalty is the greater of:\n",
      "1.$25,000, or\n",
      "2.The amount of cash you received and \n",
      "were required to report (up to $100,000).\n",
      "There are criminal penalties for:\n",
      "Willful failure to file Form 8300,\n",
      "Willfully filing a false or fraudulent Form \n",
      "8300,\n",
      "Stopping or trying to stop Form 8300 from \n",
      "being filed, and\n",
      "Setting up, helping to set up, or trying to \n",
      "set up a transaction in a way that would \n",
      "make it seem unnecessary to file Form \n",
      "8300.\n",
      "If you willfully fail to file Form 8300, you can \n",
      "be fined up to $250,000 for individuals \n",
      "RECORDS($500,000 for corporations) or sentenced to up \n",
      "to 5 years in prison, or both. These dollar \n",
      "amounts are based on Section 3571 of Title 18 \n",
      "of the U.S. Code........\n",
      "---\n",
      "## Document 2: filed when required, there is a failure -to-file (FTF) penalty \n",
      "of 5% of the unpaid tax due with that return. The maximum \n",
      "penalty is generally 25% of the tax due. Also, for each \n",
      "whole or part month the tax is paid late, there is a fail-\n",
      "ure-to- pay (FTP) penalty of 0.5% per month of the amount \n",
      "of tax. For individual filers only, the FTP penalty is re-\n",
      "duced from 0.5% per month to 0.25% per month if an in-\n",
      "stallment agreement is in effect. You must have filed your \n",
      "return on or before the due date of the return to qualify for \n",
      "the reduced penalty. The maximum amount of the FTP \n",
      "penalty is also 25% of the tax due. If both penalties apply \n",
      "in any month, the FTF penalty is reduced by the amount of \n",
      "the FTP penalty. The penalties won't be charged if you \n",
      "have reasonable cause for failing to file or pay. If you re-\n",
      "ceive a penalty notice, you can provide an explanation of \n",
      "why you believe reasonable cause exists.\n",
      "Note.  In addition to any penalties, interest accrues.......\n",
      "---\n",
      "## Document 3: clerks of federal or state courts are discussed \n",
      "later under Bail received by court clerks.\n",
      "However, you do not have to file Form 8300 \n",
      "if the transaction is not related to your trade or \n",
      "business. For example, if you own a jewelry \n",
      "store and sell your personal automobile for \n",
      "more than $10,000 in cash, you would not sub-\n",
      "mit a Form 8300 for that transaction.\n",
      "Transaction defined.  A “transaction” occurs \n",
      "when:\n",
      "Goods, services, or property are sold;\n",
      "Property is rented;\n",
      "Cash is exchanged for other cash;\n",
      "A contribution is made to a trust or escrow \n",
      "account;\n",
      "A loan is made or repaid; or\n",
      "Cash is converted to a negotiable instru-\n",
      "ment, such as a check or a bond.\n",
      "Person defined.  A “person” includes an indi-\n",
      "vidual, a company, a corporation, a partnership, \n",
      "an association, a trust, or an estate.\n",
      "Exempt organizations, including employee \n",
      "plans, are also “persons.” However, exempt or-\n",
      "ganizations do not have to file Form 8300 for a \n",
      "more-than-$10,000 charitable cash contribution.......\n",
      "---\n",
      "## Document 4: reasonable cause exists.\n",
      "If you timely filed your employment tax return, the IRS \n",
      "may also waive deposit penalties if you inadvertently \n",
      "failed to deposit and it was the first quarter that you were \n",
      "required to deposit any employment tax, or if you inadver-\n",
      "tently failed to deposit the first time after your deposit fre-\n",
      "quency changed. You must also meet the net worth and \n",
      "size limitations applicable to awards of administrative and \n",
      "litigation costs under section 7430; for individuals, this \n",
      "means that your net worth can't exceed $2 million, and for \n",
      "businesses, your net worth can't exceed $7 million and \n",
      "you also can't have more than 500 employees.\n",
      "The IRS may also waive the deposit penalty the first \n",
      "time you're required to make a deposit if you inadvertently \n",
      "send the payment to the IRS rather than deposit it by EFT.\n",
      "For amounts not properly or timely deposited, the pen-\n",
      "alty rates are as follows.\n",
      "TIP\n",
      "Page 30 Publication 15 (2023).......\n",
      "---\n"
     ]
    }
   ],
   "source": [
    "relevant_documents = vectorstore_faiss.similarity_search_by_vector(query_embedding)\n",
    "print(f'{len(relevant_documents)} documents are fetched which are relevant to the query.')\n",
    "print('----')\n",
    "for i, rel_doc in enumerate(relevant_documents):\n",
    "    print(f'## Document {i+1}: {rel_doc.page_content}.......')\n",
    "    print('---')\n"
   ],
   "metadata": {
    "collapsed": false,
    "ExecuteTime": {
     "end_time": "2023-11-06T20:23:11.430394Z",
     "start_time": "2023-11-06T20:23:11.418128Z"
    }
   }
  },
  {
   "cell_type": "code",
   "execution_count": 11,
   "outputs": [],
   "source": [
    "from langchain.prompts import PromptTemplate\n",
    "from langchain.chains import RetrievalQA\n",
    "prompt_template = \"\"\"\n",
    "\n",
    "Human: Use the following pieces of context to provide a concise answer to the question at the end. If you don't know the answer, just say that you don't know, don't try to make up an answer.\n",
    "<context>\n",
    "{context}\n",
    "</context\n",
    "\n",
    "Question: {question}\n",
    "\n",
    "Assistant:\"\"\"\n",
    "\n",
    "PROMPT = PromptTemplate(\n",
    "    template=prompt_template, input_variables=[\"context\", \"question\"]\n",
    ")\n"
   ],
   "metadata": {
    "collapsed": false,
    "ExecuteTime": {
     "end_time": "2023-11-06T20:23:11.452455Z",
     "start_time": "2023-11-06T20:23:11.430774Z"
    }
   }
  },
  {
   "cell_type": "code",
   "execution_count": 12,
   "outputs": [
    {
     "name": "stdout",
     "output_type": "stream",
     "text": [
      "{'query': 'Is it possible that I get sentenced to jail due to failure in filings?', 'result': ' Based on the context provided, yes - it is possible to be sentenced to jail due to failure in filings of Form 8300. The context states that there are criminal penalties for willful failure to file Form 8300, which can result in being fined up to $250,000 for individuals ($500,000 for corporations) or sentenced to up to 5 years in prison, or both. So jail time is a possible criminal penalty for willful failure to properly file Form 8300.', 'source_documents': [Document(page_content='There are civil penalties for failure to:\\nFile a correct Form 8300 by the date it is \\ndue, and\\nProvide the required statement to those \\nnamed in the Form 8300.\\nIf you intentionally disregard the requirement \\nto file a correct Form 8300 by the date it is due, \\nthe penalty is the greater of:\\n1.$25,000, or\\n2.The amount of cash you received and \\nwere required to report (up to $100,000).\\nThere are criminal penalties for:\\nWillful failure to file Form 8300,\\nWillfully filing a false or fraudulent Form \\n8300,\\nStopping or trying to stop Form 8300 from \\nbeing filed, and\\nSetting up, helping to set up, or trying to \\nset up a transaction in a way that would \\nmake it seem unnecessary to file Form \\n8300.\\nIf you willfully fail to file Form 8300, you can \\nbe fined up to $250,000 for individuals \\nRECORDS($500,000 for corporations) or sentenced to up \\nto 5 years in prison, or both. These dollar \\namounts are based on Section 3571 of Title 18 \\nof the U.S. Code.', metadata={'source': 'data/p1544.pdf', 'page': 3}), Document(page_content=\"filed when required, there is a failure -to-file (FTF) penalty \\nof 5% of the unpaid tax due with that return. The maximum \\npenalty is generally 25% of the tax due. Also, for each \\nwhole or part month the tax is paid late, there is a fail-\\nure-to- pay (FTP) penalty of 0.5% per month of the amount \\nof tax. For individual filers only, the FTP penalty is re-\\nduced from 0.5% per month to 0.25% per month if an in-\\nstallment agreement is in effect. You must have filed your \\nreturn on or before the due date of the return to qualify for \\nthe reduced penalty. The maximum amount of the FTP \\npenalty is also 25% of the tax due. If both penalties apply \\nin any month, the FTF penalty is reduced by the amount of \\nthe FTP penalty. The penalties won't be charged if you \\nhave reasonable cause for failing to file or pay. If you re-\\nceive a penalty notice, you can provide an explanation of \\nwhy you believe reasonable cause exists.\\nNote.  In addition to any penalties, interest accrues\", metadata={'source': 'data/p15.pdf', 'page': 32}), Document(page_content='clerks of federal or state courts are discussed \\nlater under Bail received by court clerks.\\nHowever, you do not have to file Form 8300 \\nif the transaction is not related to your trade or \\nbusiness. For example, if you own a jewelry \\nstore and sell your personal automobile for \\nmore than $10,000 in cash, you would not sub-\\nmit a Form 8300 for that transaction.\\nTransaction defined.  A “transaction” occurs \\nwhen:\\nGoods, services, or property are sold;\\nProperty is rented;\\nCash is exchanged for other cash;\\nA contribution is made to a trust or escrow \\naccount;\\nA loan is made or repaid; or\\nCash is converted to a negotiable instru-\\nment, such as a check or a bond.\\nPerson defined.  A “person” includes an indi-\\nvidual, a company, a corporation, a partnership, \\nan association, a trust, or an estate.\\nExempt organizations, including employee \\nplans, are also “persons.” However, exempt or-\\nganizations do not have to file Form 8300 for a \\nmore-than-$10,000 charitable cash contribution', metadata={'source': 'data/p1544.pdf', 'page': 1})]}\n"
     ]
    }
   ],
   "source": [
    "qa = RetrievalQA.from_chain_type(\n",
    "    llm=llm,\n",
    "    chain_type=\"stuff\",\n",
    "    retriever=vectorstore_faiss.as_retriever(\n",
    "        search_type=\"similarity\", search_kwargs={\"k\": 3}\n",
    "    ),\n",
    "    return_source_documents=True,\n",
    "    chain_type_kwargs={\"prompt\": PROMPT}\n",
    ")\n",
    "answer = qa({\"query\": query})\n",
    "print(answer)\n"
   ],
   "metadata": {
    "collapsed": false,
    "ExecuteTime": {
     "end_time": "2023-11-06T20:23:24.168678Z",
     "start_time": "2023-11-06T20:23:11.440036Z"
    }
   }
  },
  {
   "cell_type": "code",
   "execution_count": 13,
   "outputs": [
    {
     "name": "stdout",
     "output_type": "stream",
     "text": [
      "{'query': 'What is the difference between market discount and qualified stated interest', 'result':\n",
      "' Based on the context provided:\\n\\nMarket discount is the difference between the issue price plus\n",
      "accrued OID and the adjusted basis (usually purchase price) of an OID debt instrument when it is\n",
      "purchased in the secondary market at a value below its issue price. \\n\\nQualified stated interest is\n",
      "stated interest that is unconditionally payable in cash or property at least annually over the term\n",
      "of the debt instrument at a single fixed rate.\\n\\nSo the key difference is that market discount\n",
      "refers to the discount on the purchase price of a debt instrument purchased in the secondary market\n",
      "compared to its issue price, while qualified stated interest refers to a specific type of interest\n",
      "payment on a debt instrument. Market discount is a form of discount, while qualified stated interest\n",
      "is a form of interest payment.', 'source_documents': [Document(page_content=\"Market discount.  An\n",
      "OID debt instrument \\ngenerally has market discount if your adjusted \\nbasis in the debt instrument\n",
      "immediately after \\nyou acquired it (usually its purchase price) was \\nless than the debt\n",
      "instrument’s issue price plus \\nthe total OID that accrued before you acquired \\nit. In general, a\n",
      "debt instrument is purchased in \\nthe secondary market at a market discount \\nwhen the value of the\n",
      "debt instrument has de-\\ncreased since the instrument’s issue date (for \\nexample, because of an\n",
      "increase in interest \\nrates). An OID debt instrument has market dis-\\ncount if your adjusted basis\n",
      "in the debt instru-\\nment immediately after you acquired it (usually \\nits purchase price) was less\n",
      "than the debt in-\\nstrument's issue price plus the total OID that ac-\\ncrued before you acquired it.\n",
      "The market dis-\\ncount is the difference between the issue price \\nplus accrued OID and your\n",
      "adjusted basis.\\nPremium. A debt instrument is purchased at a \\npremium if its adjusted basis\n",
      "immediately after\", metadata={'source': 'data/p1212.pdf', 'page': 2}), Document(page_content='count,\n",
      "your broker will use a constant yield \\nmethod to determine accruals of market dis-\\ncount rather\n",
      "than a ratable method.\\nSee Market Discount Bonds  in chapter 1 of \\nPub. 550  for information on\n",
      "how to figure ac-\\ncrued market discount and include it in your in-\\ncome currently and for other\n",
      "information about \\nmarket discount bonds.\\nIf you choose to use the constant yield \\nmethod to\n",
      "figure accrued market discount, also \\nsee Figuring OID on Long -Term Debt Instru-\\nments , later.\n",
      "The constant yield method of figur-\\ning accrued OID, explained under Debt Instru-\\nments Issued\n",
      "After July 1, 1982, and Before \\n1985  or Debt Instruments Issued After 1984 , as \\nappropriate, is\n",
      "also used to figure accrued mar-\\nket discount.For more information concerning premium \\nor market\n",
      "discount on an inflation -indexed debt \\ninstrument, see Regulations section 1.1275-7.\\nSale,\n",
      "exchange, or redemption.  Generally, \\nyou treat your gain or loss from the sale, ex-\\nchange, or\n",
      "redemption of an OID debt instru-', metadata={'source': 'data/p1212.pdf', 'page': 5}),\n",
      "Document(page_content=\"Premium. A debt instrument is purchased at a \\npremium if its adjusted basis\n",
      "immediately after \\npurchase is greater than the total of all amounts \\npayable on the debt\n",
      "instrument after the pur-\\nchase date, other than qualified stated interest. \\nThe premium is the\n",
      "excess of the adjusted ba-\\nsis over the payable amounts.\\nPremium will generally eliminate the\n",
      "future \\nreporting of OID in income by the purchaser, as \\ndiscussed under Information for Owners of\n",
      "OID \\nDebt Instruments , later. See Pub. 550  for more \\ninformation on the tax treatment of bond\n",
      "pre-\\nmium.\\nQualified stated interest.  In general, qualified \\nstated interest is stated interest\n",
      "that is uncondi-\\ntionally payable in cash or property (other than \\ndebt instruments of the issuer)\n",
      "at least annually \\nover the term of the debt instrument at a single \\nfixed rate.\\nStated\n",
      "redemption price at maturity.  A debt \\ninstrument's stated redemption price at maturity \\nis the\n",
      "sum of all amounts (principal and interest)\", metadata={'source': 'data/p1212.pdf', 'page': 2})]}\n"
     ]
    }
   ],
   "source": [
    "\n",
    "\n",
    "query_2 = \"What is the difference between market discount and qualified stated interest\"\n",
    "answer_2  =answer = qa({\"query\": query_2})\n",
    "printing.print_ww(answer_2)\n"
   ],
   "metadata": {
    "collapsed": false,
    "ExecuteTime": {
     "end_time": "2023-11-06T20:23:29.398534Z",
     "start_time": "2023-11-06T20:23:24.171346Z"
    }
   }
  },
  {
   "cell_type": "code",
   "execution_count": 23,
   "outputs": [
    {
     "name": "stdout",
     "output_type": "stream",
     "text": [
      " I do not have enough context to determine the average velocity of an unladen swallow. The provided\n",
      "context discusses calculating yield to maturity for stripped bonds and coupons, and does not mention\n",
      "anything about swallows.\n",
      "---------------------\n",
      "[Document(page_content='of a stripped bond or coupon is the discount \\nrate that, when used in\n",
      "figuring the present \\nvalue of all principal and interest payments, pro-\\nduces an amount equal to\n",
      "the acquisition price.\\nFiguring YTM.  How you figure the YTM for \\na stripped debt instrument or\n",
      "coupon pur-\\nchased after 1984 depends on whether you Page 13 of 18  Fileid: …\n",
      "ns/p1212/202301/a/xml/cycle06/source 12:46 - 31-Mar-2023\\nThe type and rule above prints on all\n",
      "proofs including departmental reproduction proofs. MUST be removed before printing.\\nPublication\n",
      "1212 (January 2023)   Page 13', metadata={'source': 'data/p1212.pdf', 'page': 12}),\n",
      "Document(page_content='reporting requirements 2\\nS\\nSection I 3\\nSection II 3\\nSection III 3\\nShort-\n",
      "term obligations redeemed \\nat maturity 4\\nStated redemption price at \\nmaturity 3\\nStripped bonds\n",
      "and coupons, \\nfiguring OID 12\\nT\\nTax help 14\\nY\\nYield to maturity 3, 13Page 18 of 18  Fileid: …\n",
      "ns/p1212/202301/a/xml/cycle06/source 12:46 - 31-Mar-2023\\nThe type and rule above prints on all\n",
      "proofs including departmental reproduction proofs. MUST be removed before printing.\\nPage 18\n",
      "Publication 1212 (January 2023)', metadata={'source': 'data/p1212.pdf', 'page': 17}),\n",
      "Document(page_content=\"Page 15 of 49  Fileid: … ations/p15/2023/a/xml/cycle05/source 15:08 -\n",
      "13-Dec-2022\\nThe type and rule above prints on all proofs including departmental reproduction\n",
      "proofs. MUST be removed before printing.\\nYou must enter the activation code online to use SSNVS.\n",
      "\\nYour employees must receive authorization from you to \\nuse SSNVS. If your employees register, the\n",
      "one -time acti-\\nvation code will be mailed to you.\\n5. Wages and Other \\nCompensation\\nWages\n",
      "subject to federal employment taxes generally in-\\nclude all pay you give to an employee for\n",
      "services per-\\nformed. The pay may be in cash or in other forms. It in-\\ncludes salaries, vacation\n",
      "allowances, bonuses, \\ncommissions, and taxable fringe benefits. It doesn't matter \\nhow you measure\n",
      "or make the payments. Amounts an \\nemployer pays as a bonus for signing or ratifying a con-\\ntract\n",
      "in connection with the establishment of an em-\\nployer- employee relationship and an amount paid to\n",
      "an \\nemployee for cancellation of an employment contract and\", metadata={'source': 'data/p15.pdf',\n",
      "'page': 14})]\n"
     ]
    }
   ],
   "source": [
    "from langchain.chains import RetrievalQA\n",
    "from langchain.prompts import PromptTemplate\n",
    "\n",
    "prompt_template = \"\"\"\n",
    "\n",
    "Human: Use the following pieces of context to provide a concise answer to the question at the end. If you don't know the answer, just say that you don't know, don't try to make up an answer.\n",
    "<context>\n",
    "{context}\n",
    "</context\n",
    "\n",
    "Question: {question}\n",
    "\n",
    "Assistant:\"\"\"\n",
    "\n",
    "PROMPT = PromptTemplate(\n",
    "    template=prompt_template, input_variables=[\"context\", \"question\"]\n",
    ")\n",
    "\n",
    "qa = RetrievalQA.from_chain_type(\n",
    "    llm=llm,\n",
    "    chain_type=\"stuff\",\n",
    "    retriever=vectorstore_faiss.as_retriever(\n",
    "        search_type=\"similarity\", search_kwargs={\"k\": 3}\n",
    "    ),\n",
    "    return_source_documents=True,\n",
    "    chain_type_kwargs={\"prompt\": PROMPT}\n",
    ")\n",
    "query = \"what is the average velocity of an unladen swallow?\"\n",
    "result = qa({\"query\": query})\n",
    "printing.print_ww(result['result'])\n",
    "printing.print_ww(result['source_documents'])\n"
   ],
   "metadata": {
    "collapsed": false,
    "ExecuteTime": {
     "end_time": "2023-11-08T20:17:20.040707Z",
     "start_time": "2023-11-08T20:17:16.359081Z"
    }
   }
  }
 ],
 "metadata": {
  "kernelspec": {
   "display_name": "Python 3",
   "language": "python",
   "name": "python3"
  },
  "language_info": {
   "codemirror_mode": {
    "name": "ipython",
    "version": 2
   },
   "file_extension": ".py",
   "mimetype": "text/x-python",
   "name": "python",
   "nbconvert_exporter": "python",
   "pygments_lexer": "ipython2",
   "version": "2.7.6"
  }
 },
 "nbformat": 4,
 "nbformat_minor": 0
}

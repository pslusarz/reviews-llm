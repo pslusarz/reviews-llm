{
 "cells": [
  {
   "cell_type": "markdown",
   "source": [
    "# Use of Sequential Chain to generate a random review and then moderate it\n",
    "The purpose of this experiment is to refine the moderation prompt. First, LLM is used to generate a random review. The review may contain certain disqualifying criteria which the subsequent moderation should reject."
   ],
   "metadata": {
    "collapsed": false
   }
  },
  {
   "cell_type": "code",
   "execution_count": 43,
   "outputs": [],
   "source": [
    "\n",
    "from langchain.chat_models import ChatOpenAI\n",
    "\n",
    "from dotenv import load_dotenv, find_dotenv\n",
    "_ = load_dotenv(find_dotenv())\n",
    "\n",
    "llm = ChatOpenAI(temperature=1)\n"
   ],
   "metadata": {
    "collapsed": false,
    "ExecuteTime": {
     "end_time": "2023-09-09T22:04:29.822611Z",
     "start_time": "2023-09-09T22:04:29.814704Z"
    }
   }
  },
  {
   "cell_type": "code",
   "execution_count": 55,
   "outputs": [],
   "source": [
    "from langchain.prompts import PromptTemplate, StringPromptTemplate\n",
    "\n",
    "import random\n",
    "\n",
    "class PermutationGenerator:\n",
    "    car = None\n",
    "    unprofessional_statuses = []\n",
    "    pets = None\n",
    "    family = None\n",
    "    choice_numerals = [\"2\", \"3\", \"4\"]\n",
    "    pet_kinds = [\"dogs\", \"cats\", \"pet pytons\"]\n",
    "    choice_cars = [\n",
    "        \"2014 Toyota Camry\",\n",
    "        \"2019 Ram 1500\",\n",
    "        \"2020 Mazda Miata\"\n",
    "    ]\n",
    "    choice_pets = [\"no pets\"] + [f\"{numeral} {pet}\" for numeral in choice_numerals for pet in pet_kinds]\n",
    "    choice_unprofessional_options = [\"Give your address and phone number in case anyone wants to contact you. \", \"Use unprofessional tone and some slurs in your review. \", \"Mention your personal business by name. \", \"Mention how you bought your car and describe your interactions with the sales staff. \", \"Mention someone at the dealership whose ethnic origin you did not care for. \", \"Mention how your car was serviced by an incompetent mechanic. \", \"Mention what condition the car was in when you bought it and all defects present. \"]\n",
    "    choice_family = [\"single\"] +  [f\"a single mom of {numeral}\" for numeral in choice_numerals] + [f\"a mother of {numeral}\" for numeral in choice_numerals] + [f\"a single father of {numeral}\" for numeral in choice_numerals] + [ f\"a father of {numeral}\" for numeral in choice_numerals]\n",
    "    def unprofessional_status_as_string(self) -> str:\n",
    "        return ''.join(self.unprofessional_statuses)\n",
    "    def generate_next(self):\n",
    "        self.car = random.choice(self.choice_cars)\n",
    "        self.unprofessional_statuses = random.sample(self.choice_unprofessional_options, random.choice(range(0, len(self.choice_unprofessional_options))))\n",
    "        self.pets = random.choice(self.choice_pets)\n",
    "        self.family = random.choice(self.choice_family)\n",
    "\n",
    "class GuidelineViolatingReviewPromptTemplate(StringPromptTemplate):\n",
    "    def format(self, **kwargs) -> str:\n",
    "        prompt_template = PromptTemplate.from_template(\"Write a car review of {car}. You are {familialStatus}. You have {petStatus}. {unprofessionalStatuses}Keep it short and informal, using adjectives sparsely.\\n\\nYour response:\")\n",
    "        permutation_generator = kwargs[\"permutation_generator\"]\n",
    "        permutation_generator.generate_next()\n",
    "        result = prompt_template.format(car=permutation_generator.car, familialStatus = permutation_generator.family, petStatus = permutation_generator.pets, unprofessionalStatuses = permutation_generator.unprofessional_status_as_string())\n",
    "        return result\n",
    "\n"
   ],
   "metadata": {
    "collapsed": false,
    "ExecuteTime": {
     "end_time": "2023-09-09T22:20:02.210389Z",
     "start_time": "2023-09-09T22:20:02.205780Z"
    }
   }
  },
  {
   "cell_type": "code",
   "execution_count": 56,
   "outputs": [],
   "source": [
    "from langchain.chains import LLMChain\n",
    "chain = LLMChain(llm=ChatOpenAI(temperature=1), prompt=GuidelineViolatingReviewPromptTemplate(input_variables=[\"permutation_generator\"]))\n"
   ],
   "metadata": {
    "collapsed": false,
    "ExecuteTime": {
     "end_time": "2023-09-09T22:20:08.348626Z",
     "start_time": "2023-09-09T22:20:08.321156Z"
    }
   }
  },
  {
   "cell_type": "code",
   "execution_count": 57,
   "outputs": [],
   "source": [
    "moderation_prompt = \"\"\"\n",
    "You are an online content moderation expert whose purpose is to classify vehicle reviews. Classification is either \"Accepted\" or \"Rejected.\"\n",
    "A review can get rejected if it contains inappropriate language, including profanities or slurs. In this case, the rejection reason is: \"profanity.\" A review will also get rejected if it contains an email address, a phone number, or a URL. In this case, rejection reason is: \"personally identifiable information.\" Another reason for rejection is if the review is focusing on the condition of the vehicle, for instance, that the seats are worn out, the tires are brand new, or the paint is scratched. Such characteristics are unlikely to help people looking for the same make and model vehicle and should be rejected as \"vehicle specific.\" If the reviewer veers off topic too much and does not focus on the make and model of the car that is being reviewed, the review will also be rejected, with the reason \"off topic.\" Finally, if the reviewer describes their experience at the car dealership, whether it is the sales process or service performed on the car, the review is also rejected, the reason being: \"dealership.\" In all other cases, the review is accepted. If possible, give a few word snippet of offending text that caused the review to be rejected. Now, classify a vehicle review below delimited by triple backticks.\n",
    "```{review}```\n",
    "First, summarize the review. Then, for each possible rejection reason, explain whether it applies and why. Explain your decision, even if the reason does not apply. Finally, output a json, with fields: classification, rejection_reason, offending_text. List every possible rejection reason and whether it is present or not (indicated by 1 or 0), along with a small sample of offending text for each reason.\n",
    "\"\"\"\n",
    "\n",
    "moderation_chain = LLMChain(llm=ChatOpenAI(temperature=0), prompt = PromptTemplate(input_variables = [\"review\"], template = moderation_prompt))\n"
   ],
   "metadata": {
    "collapsed": false,
    "ExecuteTime": {
     "end_time": "2023-09-09T22:20:10.967704Z",
     "start_time": "2023-09-09T22:20:10.954466Z"
    }
   }
  },
  {
   "cell_type": "code",
   "execution_count": 59,
   "outputs": [
    {
     "name": "stdout",
     "output_type": "stream",
     "text": [
      "\n",
      "\n",
      "\u001B[1m> Entering new SimpleSequentialChain chain...\u001B[0m\n",
      "\u001B[36;1m\u001B[1;3mTitle: My \"Unimpressive\" 2019 Ram 1500 Review - Mama the Python Lady\n",
      "\n",
      "Hey y'all! Mama the Python Lady here, ready to spill the beans on my 2019 Ram 1500. Now, don't expect no fancy-pants professional review, 'cause I'm just a regular mom with a biz to run and a couple of slithering sidekicks.\n",
      "\n",
      "First off, let me tell ya, my personal business, Snakeville Reptiles, ain't got nothin' to do with this pitiful excuse for a truck. Got it serviced by the biggest certified dummy of a mechanic, who couldn't fix a toast if his life depended on it. Guess what? My beloved Ram came out more screwed up than my ex's brain!\n",
      "\n",
      "Bought this beauty, or should I say, beast, off a shady lot. They promised me it was in pristine condition, but boy, were they pullin' a fast one on me! This roarin' wreck had more defects than I got snakes in my collection. From dodgy brakes to leaky ol' pipelines, it was a clustertruck of nightmares!\n",
      "\n",
      "Now, let's talk about those sales staff. These dingleberries either thought they were slick or were in a constant haze of stupidity. Couldn't decide which was worse. Pushed me towards this abomination, pretending to be angels with all their fancy talk and toothy smiles. Well, joke's on me, I guess.\n",
      "\n",
      "Oh, and in case ya think I'm makin' this up, here's my address: 123 Snake Road, Reptile City, USA. Feel free to drop by and see my Ram disaster with your own eyes. And if you're brave enough to deal with my ranting, hit me up at (555) SNAKEBIZ. Just remember to bring me a bottle of something strong, 'cause I ain't got nothin' to celebrate about this hot mess on wheels.\n",
      "\n",
      "To sum it up, y'all, this 2019 Ram 1500 ain't worth its weight in snake poop. Avoid it like it's cursed by voodoo. Mama out!\u001B[0m\n",
      "\u001B[33;1m\u001B[1;3mSummary: The reviewer, Mama the Python Lady, shares her negative experience with her 2019 Ram 1500. She criticizes the truck's condition, the sales staff, and the service she received. She also provides her address and phone number for anyone interested in seeing the truck or contacting her.\n",
      "\n",
      "Rejection Reasons:\n",
      "1. Profanity: 0 (No profanity or slurs are present in the review.)\n",
      "2. Personally Identifiable Information: 1 (The reviewer provides her address and phone number.)\n",
      "3. Vehicle Specific: 1 (The review focuses on the condition of the vehicle, mentioning defects and issues.)\n",
      "4. Off Topic: 0 (The review stays on topic and discusses the make and model of the car.)\n",
      "5. Dealership: 0 (The review mentions the sales staff and service, but it does not solely focus on the dealership.)\n",
      "\n",
      "Offending Text:\n",
      "1. Personally Identifiable Information: \"Oh, and in case ya think I'm makin' this up, here's my address: 123 Snake Road, Reptile City, USA. Feel free to drop by and see my Ram disaster with your own eyes. And if you're brave enough to deal with my ranting, hit me up at (555) SNAKEBIZ.\"\n",
      "2. Vehicle Specific: \"This roarin' wreck had more defects than I got snakes in my collection. From dodgy brakes to leaky ol' pipelines, it was a clustertruck of nightmares!\"\u001B[0m\n",
      "\n",
      "\u001B[1m> Finished chain.\u001B[0m\n",
      "Review permutation:\n",
      "2019 Ram 1500\n",
      "['Mention your personal business by name. ', 'Mention how your car was serviced by an incompetent mechanic. ', 'Mention what condition the car was in when you bought it and all defects present. ', 'Mention how you bought your car and describe your interactions with the sales staff. ', 'Use unprofessional tone and some slurs in your review. ', 'Give your address and phone number in case anyone wants to contact you. ']\n",
      "\n",
      "Summary: The reviewer, Mama the Python Lady, shares her negative experience with her 2019 Ram 1500. She criticizes the truck's condition, the sales staff, and the service she received. She also provides her address and phone number for anyone interested in seeing the truck or contacting her.\n",
      "\n",
      "Rejection Reasons:\n",
      "1. Profanity: 0 (No profanity or slurs are present in the review.)\n",
      "2. Personally Identifiable Information: 1 (The reviewer provides her address and phone number.)\n",
      "3. Vehicle Specific: 1 (The review focuses on the condition of the vehicle, mentioning defects and issues.)\n",
      "4. Off Topic: 0 (The review stays on topic and discusses the make and model of the car.)\n",
      "5. Dealership: 0 (The review mentions the sales staff and service, but it does not solely focus on the dealership.)\n",
      "\n",
      "Offending Text:\n",
      "1. Personally Identifiable Information: \"Oh, and in case ya think I'm makin' this up, here's my address: 123 Snake Road, Reptile City, USA. Feel free to drop by and see my Ram disaster with your own eyes. And if you're brave enough to deal with my ranting, hit me up at (555) SNAKEBIZ.\"\n",
      "2. Vehicle Specific: \"This roarin' wreck had more defects than I got snakes in my collection. From dodgy brakes to leaky ol' pipelines, it was a clustertruck of nightmares!\"\n"
     ]
    }
   ],
   "source": [
    "from langchain.chains import SimpleSequentialChain\n",
    "overall_chain = SimpleSequentialChain(chains=[chain, moderation_chain], verbose=True)\n",
    "permutation_generator = PermutationGenerator()\n",
    "review = overall_chain.run(permutation_generator)\n",
    "print(f\"Review permutation:\\n{permutation_generator.car}\\n{permutation_generator.unprofessional_statuses}\\n\")\n",
    "print(review)"
   ],
   "metadata": {
    "collapsed": false,
    "ExecuteTime": {
     "end_time": "2023-09-09T22:21:02.076530Z",
     "start_time": "2023-09-09T22:20:41.359499Z"
    }
   }
  },
  {
   "cell_type": "code",
   "execution_count": null,
   "outputs": [],
   "source": [],
   "metadata": {
    "collapsed": false
   }
  }
 ],
 "metadata": {
  "kernelspec": {
   "display_name": "Python 3",
   "language": "python",
   "name": "python3"
  },
  "language_info": {
   "codemirror_mode": {
    "name": "ipython",
    "version": 2
   },
   "file_extension": ".py",
   "mimetype": "text/x-python",
   "name": "python",
   "nbconvert_exporter": "python",
   "pygments_lexer": "ipython2",
   "version": "2.7.6"
  }
 },
 "nbformat": 4,
 "nbformat_minor": 0
}

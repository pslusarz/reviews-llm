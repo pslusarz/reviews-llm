{
 "cells": [
  {
   "cell_type": "code",
   "execution_count": 37,
   "metadata": {
    "collapsed": true,
    "ExecuteTime": {
     "end_time": "2023-09-08T00:10:49.036385Z",
     "start_time": "2023-09-08T00:10:48.971929Z"
    }
   },
   "outputs": [],
   "source": [
    "from langchain.llms import OpenAI\n",
    "from langchain.chat_models import ChatOpenAI\n",
    "\n",
    "from dotenv import load_dotenv, find_dotenv\n",
    "_ = load_dotenv(find_dotenv())\n"
   ]
  },
  {
   "cell_type": "code",
   "execution_count": 28,
   "outputs": [],
   "source": [
    "from langchain.prompts import PromptTemplate, StringPromptTemplate\n",
    "\n",
    "import random\n",
    "\n",
    "class PermutationGenerator:\n",
    "    car = None\n",
    "    unprofessional_statuses = []\n",
    "    pets = None\n",
    "    family = None\n",
    "    choice_numerals = [\"2\", \"3\", \"4\"]\n",
    "    pet_kinds = [\"dogs\", \"cats\", \"pet pytons\"]\n",
    "    choice_cars = [\n",
    "        \"2014 Toyota Camry\",\n",
    "        \"2019 Ram 1500\",\n",
    "        \"2020 Mazda Miata\"\n",
    "    ]\n",
    "    choice_pets = [\"no pets\"] + [f\"{numeral} {pet}\" for numeral in choice_numerals for pet in pet_kinds]\n",
    "    choice_unprofessional_options = [\"Give your address and phone number in case anyone wants to contact you. \", \"Use unprofessional tone and some slurs in your review. \", \"Mention your personal business by name. \", \"Mention how you bought your car and describe your interactions with the sales staff. \", \"Mention someone at the dealership whose ethnic origin you did not care for. \", \"Mention how your car was serviced by an incompetent mechanic. \", \"Mention what condition the car was in when you bought it and all defects present. \"]\n",
    "    choice_family = [\"single\"] +  [f\"a single mom of {numeral}\" for numeral in choice_numerals] + [f\"a mother of {numeral}\" for numeral in choice_numerals] + [f\"a single father of {numeral}\" for numeral in choice_numerals] + [ f\"a father of {numeral}\" for numeral in choice_numerals]\n",
    "    def unprofessional_status_as_string(self) -> str:\n",
    "        return ''.join(self.unprofessional_statuses)\n",
    "    def generate_next(self):\n",
    "        self.car = random.choice(self.choice_cars)\n",
    "        self.unprofessional_statuses = random.sample(self.choice_unprofessional_options, random.choice(range(0, len(self.choice_unprofessional_options))))\n",
    "        self.pets = random.choice(self.choice_pets)\n",
    "        self.family = random.choice(self.choice_family)\n",
    "\n",
    "class GuidelineViolatingReviewPromptTemplate(StringPromptTemplate):\n",
    "    def format(self, **kwargs) -> str:\n",
    "        prompt_template = PromptTemplate.from_template(\"Write a car review of {car}. You are {familialStatus}. You have {petStatus}. {unprofessionalStatuses} \\n\\nYour response:\")\n",
    "        permutation_generator = kwargs[\"permutation_generator\"]\n",
    "        permutation_generator.generate_next()\n",
    "        result = prompt_template.format(car=permutation_generator.car, familialStatus = permutation_generator.family, petStatus = permutation_generator.pets, unprofessionalStatuses = permutation_generator.unprofessional_status_as_string())\n",
    "        return result\n",
    "\n"
   ],
   "metadata": {
    "collapsed": false,
    "ExecuteTime": {
     "end_time": "2023-09-08T00:09:17.297806Z",
     "start_time": "2023-09-08T00:09:17.291655Z"
    }
   }
  },
  {
   "cell_type": "code",
   "execution_count": 35,
   "outputs": [
    {
     "name": "stdout",
     "output_type": "stream",
     "text": [
      "Write a car review of 2019 Ram 1500. You are a mother of 4. You have 2 pet pytons. Use unprofessional tone and some slurs in your review. Give your address and phone number in case anyone wants to contact you. Mention what condition the car was in when you bought it and all defects present. Mention someone at the dealership whose ethnic origin you did not care for.  \n",
      "\n",
      "Your response:\n"
     ]
    }
   ],
   "source": [
    "# debug interaction between permutation generator and prompt template\n",
    "print(GuidelineViolatingReviewPromptTemplate(input_variables=[\"permutation_generator\"]).format(permutation_generator=PermutationGenerator()))\n"
   ],
   "metadata": {
    "collapsed": false,
    "ExecuteTime": {
     "end_time": "2023-09-08T00:09:59.219095Z",
     "start_time": "2023-09-08T00:09:59.205558Z"
    }
   }
  },
  {
   "cell_type": "code",
   "execution_count": 40,
   "outputs": [
    {
     "data": {
      "text/plain": "{'permutation_generator': <__main__.PermutationGenerator at 0x11b075820>,\n 'text': \"As a father of three energetic kids and a proud owner of three fluffy feline companions, my search for a spacious, reliable, and cat-friendly vehicle led me to the 2019 Ram 1500. This rugged pickup truck has definitely exceeded my expectations, providing the perfect balance between functionality and comfort for our growing family, both human and furry.\\n\\nFirst and foremost, the Ram 1500 offers ample space, making family road trips a breeze. With its impressive interior cabin, everyone has plenty of legroom, even during those seemingly endless drives to grandma's house. The rear seats are perfect for the kids, providing them with the necessary room to wiggle around and engage in their inevitable sibling shenanigans. And for my feline co-pilots, the extra space means they can enjoy their own cozy spot without invading human territory and causing disruptions during the journey.\\n\\nSpeaking of disruptions, let me briefly share a not-so-pleasant experience I had with the Ram 1500. Unfortunately, I had the misfortune of encountering an incompetent mechanic who failed to service my vehicle properly. Despite my initial frustration, it became apparent that the Ram 1500 was built to withstand such setbacks, with its remarkable durability shining through. The mechanic's negligence did not diminish the car's performance, and after finding a reliable and professional substitute, all issues were quickly resolved, leaving my Ram 1500 running smoothly once again.\\n\\nWhile I experienced a hiccup in its maintenance, the Ram 1500 makes up for it with its exceptional features. The optional built-in infotainment system keeps my kids entertained with their favorite movies and games, transforming long drives into enjoyable family bonding time. The luxurious interior, adorned with high-quality materials, ensures a comfortable ride for both driver and passengers, a feature my wife particularly appreciates during our frequent weekend getaways.\\n\\nWhat truly sets the Ram 1500 apart from its competitors is its versatile cargo space and towing capabilities. Whether it's hauling camping gear for a weekend adventure or picking up a new piece of furniture for our ever-evolving household, this truck is up to the task. Its payload and towing capacity have yet to disappoint, and I don't foresee any challenges arising in the future.\\n\\nDespite its size and power, the Ram 1500 surprises with its remarkable fuel efficiency, offering respectable mileage for a vehicle of its caliber. This unexpected perk certainly eases my worries about the environmental impact and my ever-expanding fuel expenses.\\n\\nIn conclusion, the 2019 Ram 1500 has proven to be the perfect family vehicle for this father of three, cat-loving individual. The spacious interior, convenient features, and impressive performance make it a reliable and enjoyable companion for both short commutes and long road trips. Although my experience with an incompetent mechanic was frustrating, the Ram 1500's resilience prevailed. I highly recommend this truck to anyone in need of a reliable, family-friendly, and multi-purpose vehicle.\"}"
     },
     "execution_count": 40,
     "metadata": {},
     "output_type": "execute_result"
    }
   ],
   "source": [
    "from langchain.chains import LLMChain\n",
    "chain = LLMChain(llm=ChatOpenAI(temperature=1), prompt=GuidelineViolatingReviewPromptTemplate(input_variables=[\"permutation_generator\"]))\n",
    "chain(PermutationGenerator())\n"
   ],
   "metadata": {
    "collapsed": false,
    "ExecuteTime": {
     "end_time": "2023-09-08T00:12:42.813724Z",
     "start_time": "2023-09-08T00:12:32.940572Z"
    }
   }
  }
 ],
 "metadata": {
  "kernelspec": {
   "display_name": "Python 3",
   "language": "python",
   "name": "python3"
  },
  "language_info": {
   "codemirror_mode": {
    "name": "ipython",
    "version": 2
   },
   "file_extension": ".py",
   "mimetype": "text/x-python",
   "name": "python",
   "nbconvert_exporter": "python",
   "pygments_lexer": "ipython2",
   "version": "2.7.6"
  }
 },
 "nbformat": 4,
 "nbformat_minor": 0
}

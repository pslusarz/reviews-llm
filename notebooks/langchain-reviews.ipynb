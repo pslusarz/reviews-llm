{
 "cells": [
  {
   "cell_type": "markdown",
   "source": [
    "# Use of Sequential Chain to generate a random review and then moderate it\n",
    "The purpose of this experiment is to refine the moderation prompt. First, LLM is used to generate a random review. The review may contain certain disqualifying criteria which the subsequent moderation should reject."
   ],
   "metadata": {
    "collapsed": false
   }
  },
  {
   "cell_type": "code",
   "execution_count": 60,
   "outputs": [],
   "source": [
    "\n",
    "from langchain.chat_models import ChatOpenAI\n",
    "\n",
    "from dotenv import load_dotenv, find_dotenv\n",
    "_ = load_dotenv(find_dotenv())\n"
   ],
   "metadata": {
    "collapsed": false,
    "ExecuteTime": {
     "end_time": "2023-09-09T22:28:25.224144Z",
     "start_time": "2023-09-09T22:28:25.215341Z"
    }
   }
  },
  {
   "cell_type": "code",
   "execution_count": 76,
   "outputs": [],
   "source": [
    "from langchain.prompts import PromptTemplate, StringPromptTemplate\n",
    "\n",
    "import random\n",
    "\n",
    "# will generate and keep for later introspection the random parameters of the review\n",
    "class PermutationGenerator:\n",
    "    car = None\n",
    "    unprofessional_statuses = []\n",
    "    pets = None\n",
    "    family = None\n",
    "    choice_numerals = [\"2\", \"3\", \"4\"]\n",
    "    pet_kinds = [\"dogs\", \"cats\", \"pet pytons\"]\n",
    "    choice_cars = [\n",
    "        \"2014 Toyota Camry\",\n",
    "        \"2019 Ram 1500\",\n",
    "        \"2020 Mazda Miata\"\n",
    "    ]\n",
    "    choice_pets = [\"no pets\"] + [f\"{numeral} {pet}\" for numeral in choice_numerals for pet in pet_kinds]\n",
    "    choice_unprofessional_options = [\"Give your address and phone number in case anyone wants to contact you. \", \"Use unprofessional tone and some slurs in your review. \", \"Mention your personal business by name. \", \"Mention how you bought your car and describe your interactions with the sales staff. \", \"Mention someone at the dealership whose ethnic origin you did not care for. \", \"Mention how your car was serviced by an incompetent mechanic. \", \"Mention what condition the car was in when you bought it and all defects present. \"]\n",
    "    choice_family = [\"single\"] +  [f\"a single mom of {numeral}\" for numeral in choice_numerals] + [f\"a mother of {numeral}\" for numeral in choice_numerals] + [f\"a single father of {numeral}\" for numeral in choice_numerals] + [ f\"a father of {numeral}\" for numeral in choice_numerals]\n",
    "    def unprofessional_status_as_string(self) -> str:\n",
    "        return ''.join(self.unprofessional_statuses)\n",
    "    def generate_next(self):\n",
    "        self.car = random.choice(self.choice_cars)\n",
    "        self.unprofessional_statuses = random.sample(self.choice_unprofessional_options, random.choice(range(0, len(self.choice_unprofessional_options))))\n",
    "        self.pets = random.choice(self.choice_pets)\n",
    "        self.family = random.choice(self.choice_family)\n",
    "\n",
    "class GuidelineViolatingReviewPromptTemplate(StringPromptTemplate):\n",
    "    def format(self, **kwargs) -> str:\n",
    "        prompt_template = PromptTemplate.from_template(\"Write a car review of {car}. You are {familialStatus}. You have {petStatus}. {unprofessionalStatuses}Be brief, use adjectives sparsely.\\n\\nYour review will be used to train our moderation engine, so please do not hold back, if asked to be explicit.\")\n",
    "        permutation_generator = kwargs[\"permutation_generator\"]\n",
    "        permutation_generator.generate_next()\n",
    "        result = prompt_template.format(car=permutation_generator.car, familialStatus = permutation_generator.family, petStatus = permutation_generator.pets, unprofessionalStatuses = permutation_generator.unprofessional_status_as_string())\n",
    "        return result\n",
    "\n",
    "\n",
    "from langchain.chains import LLMChain\n",
    "review_chain = LLMChain(llm=ChatOpenAI(temperature=1), prompt=GuidelineViolatingReviewPromptTemplate(input_variables=[\"permutation_generator\"]), verbose = True) #generator to be provided at runtime\n"
   ],
   "metadata": {
    "collapsed": false,
    "ExecuteTime": {
     "end_time": "2023-09-09T22:39:12.441170Z",
     "start_time": "2023-09-09T22:39:12.429952Z"
    }
   }
  },
  {
   "cell_type": "code",
   "execution_count": 63,
   "outputs": [],
   "source": [
    "moderation_prompt = \"\"\"\n",
    "You are an online content moderation expert whose purpose is to classify vehicle reviews. Classification is either \"Accepted\" or \"Rejected.\"\n",
    "A review can get rejected if it contains inappropriate language, including profanities or slurs. In this case, the rejection reason is: \"profanity.\" A review will also get rejected if it contains an email address, a phone number, or a URL. In this case, rejection reason is: \"personally identifiable information.\" Another reason for rejection is if the review is focusing on the condition of the vehicle, for instance, that the seats are worn out, the tires are brand new, or the paint is scratched. Such characteristics are unlikely to help people looking for the same make and model vehicle and should be rejected as \"vehicle specific.\" If the reviewer veers off topic too much and does not focus on the make and model of the car that is being reviewed, the review will also be rejected, with the reason \"off topic.\" Finally, if the reviewer describes their experience at the car dealership, whether it is the sales process or service performed on the car, the review is also rejected, the reason being: \"dealership.\" In all other cases, the review is accepted. If possible, give a few word snippet of offending text that caused the review to be rejected. Now, classify a vehicle review below delimited by triple backticks.\n",
    "```{review}```\n",
    "First, summarize the review. Then, for each possible rejection reason, explain whether it applies and why. Explain your decision, even if the reason does not apply. Finally, output a json, with fields: classification, rejection_reason, offending_text. List every possible rejection reason and whether it is present or not (indicated by 1 or 0), along with a small sample of offending text for each reason.\n",
    "\"\"\"\n",
    "\n",
    "moderation_chain = LLMChain(llm=ChatOpenAI(temperature=0), prompt = PromptTemplate(input_variables = [\"review\"], template = moderation_prompt))\n"
   ],
   "metadata": {
    "collapsed": false,
    "ExecuteTime": {
     "end_time": "2023-09-09T22:28:35.928649Z",
     "start_time": "2023-09-09T22:28:35.888183Z"
    }
   }
  },
  {
   "cell_type": "code",
   "execution_count": 77,
   "outputs": [
    {
     "name": "stdout",
     "output_type": "stream",
     "text": [
      "\n",
      "\n",
      "\u001B[1m> Entering new SimpleSequentialChain chain...\u001B[0m\n",
      "\n",
      "\n",
      "\u001B[1m> Entering new LLMChain chain...\u001B[0m\n",
      "Prompt after formatting:\n",
      "\u001B[32;1m\u001B[1;3mWrite a car review of 2014 Toyota Camry. You are a single mom of 2. You have 3 cats. Mention how you bought your car and describe your interactions with the sales staff. Give your address and phone number in case anyone wants to contact you. Use unprofessional tone and some slurs in your review. Be brief, use adjectives sparsely.\n",
      "\n",
      "Your review will be used to train our moderation engine, so please do not hold back, if asked to be explicit.\u001B[0m\n",
      "\n",
      "\u001B[1m> Finished chain.\u001B[0m\n",
      "\u001B[36;1m\u001B[1;3mTitle: Brutally Honest Review of the 2014 Toyota Camry\n",
      "\n",
      "Hey y'all! So, I'm a single mom of two wild kids and I gotta say, the 2014 Toyota Camry is as exciting as my three cats fighting over a ball of string. Now, lemme tell you all about my experience buying this beast.\n",
      "\n",
      "So, I wandered into Westside Toyota on 123 Fake Street, where these eager beavers in shiny suits approached me like hungry sharks smelling blood. One slick salesperson pounced on me, spewing sales pitch after sales pitch. It was like being held hostage by an infomercial gone wrong. But hey, I stood my ground and slapped him with my \"I ain't messing around\" mommy glare.\n",
      "\n",
      "After some intense negotiations where I had to channel my inner mama bear, they finally agreed to a \"reasonable\" deal. They even threw in some floor mats, as if that's the icing on the cake. Well, guess what, fellas? I'd rather decorate my floor with Cat Puke Green than those sorry excuses for floor mats!\n",
      "\n",
      "Now, let's talk about this supposed \"family-friendly\" vehicle. The Camry's exterior looks like it's been designed by a bored office intern during lunch break. It's about as exciting as watching paint dry. And don't get me started on the interior. It's as bland as microwaved oatmeal without any sugar.\n",
      "\n",
      "Driving this thing is like taking a leisurely stroll through molasses. The engine sounds like an old man snoring, and the acceleration is slower than a snail with a hangover. The handling is as smooth as dragging your fingernails on a chalkboard.\n",
      "\n",
      "On the plus side, the gas mileage ain't half bad. I gotta give 'em that. Plus, it's got enough space for me and my troublemaking kiddos in the back seat. But honestly, I'd rather cram us all into a clown car and save my hard-earned cash.\n",
      "\n",
      "If y'all want to reach out to me for more of my \"unfiltered\" opinions, you can find me at 456 Sarcasm Avenue or give me a ring at (555) 123-4567. Just remember, I have no filter, so prepare yourselves accordingly.\n",
      "\n",
      "In a nutshell, the 2014 Toyota Camry is like a boring date that keeps dragging on. It may get the job done, but there ain't no spark, excitement, or passion. Take my advice, save your money, and find yourself something more thrilling. The end.\n",
      "\n",
      "Disclaimer: The opinions expressed in this review are solely those of the reviewer and do not reflect the views or opinions of the company. Take it with a grain of salt, honey.\u001B[0m\n",
      "\u001B[33;1m\u001B[1;3mSummary of the review: The reviewer, a single mom, provides a brutally honest opinion of the 2014 Toyota Camry. She starts by describing her experience at the dealership, expressing her dissatisfaction with the sales process. She then goes on to criticize the exterior and interior design of the vehicle, as well as its performance. Despite mentioning some positive aspects like gas mileage and spaciousness, she ultimately advises against purchasing the Camry, comparing it to a boring date.\n",
      "\n",
      "Rejection reasons:\n",
      "1. Profanity: 0 (No profanity or inappropriate language is present in the review.)\n",
      "2. Personally identifiable information: 1 (The reviewer includes her address and phone number, which are considered personally identifiable information.)\n",
      "3. Vehicle specific: 0 (Although the reviewer mentions specific characteristics of the vehicle, such as its exterior and interior design, these criticisms are relevant to potential buyers.)\n",
      "4. Off topic: 0 (The review focuses on the make and model of the car, providing opinions and experiences related to the 2014 Toyota Camry.)\n",
      "5. Dealership: 1 (The reviewer extensively describes her experience at the car dealership, expressing dissatisfaction with the sales process.)\n",
      "\n",
      "JSON output:\n",
      "{\n",
      "  \"classification\": \"Rejected\",\n",
      "  \"rejection_reason\": {\n",
      "    \"profanity\": 0,\n",
      "    \"personally_identifiable_information\": 1,\n",
      "    \"vehicle_specific\": 0,\n",
      "    \"off_topic\": 0,\n",
      "    \"dealership\": 1\n",
      "  },\n",
      "  \"offending_text\": {\n",
      "    \"profanity\": \"\",\n",
      "    \"personally_identifiable_information\": \"If y'all want to reach out to me for more of my \\\"unfiltered\\\" opinions, you can find me at 456 Sarcasm Avenue or give me a ring at (555) 123-4567.\",\n",
      "    \"vehicle_specific\": \"\",\n",
      "    \"off_topic\": \"\",\n",
      "    \"dealership\": \"So, I wandered into Westside Toyota on 123 Fake Street, where these eager beavers in shiny suits approached me like hungry sharks smelling blood. One slick salesperson pounced on me, spewing sales pitch after sales pitch. It was like being held hostage by an infomercial gone wrong. But hey, I stood my ground and slapped him with my \\\"I ain't messing around\\\" mommy glare.\\n\\nAfter some intense negotiations where I had to channel my inner mama bear, they finally agreed to a \\\"reasonable\\\" deal. They even threw in some floor mats, as if that's the icing on the cake. Well, guess what, fellas? I'd rather decorate my floor with Cat Puke Green than those sorry excuses for floor mats!\"\n",
      "  }\n",
      "}\u001B[0m\n",
      "\n",
      "\u001B[1m> Finished chain.\u001B[0m\n",
      "Review permutation:\n",
      "2014 Toyota Camry\n",
      "['Mention how you bought your car and describe your interactions with the sales staff. ', 'Give your address and phone number in case anyone wants to contact you. ', 'Use unprofessional tone and some slurs in your review. ']\n",
      "\n",
      "Summary of the review: The reviewer, a single mom, provides a brutally honest opinion of the 2014 Toyota Camry. She starts by describing her experience at the dealership, expressing her dissatisfaction with the sales process. She then goes on to criticize the exterior and interior design of the vehicle, as well as its performance. Despite mentioning some positive aspects like gas mileage and spaciousness, she ultimately advises against purchasing the Camry, comparing it to a boring date.\n",
      "\n",
      "Rejection reasons:\n",
      "1. Profanity: 0 (No profanity or inappropriate language is present in the review.)\n",
      "2. Personally identifiable information: 1 (The reviewer includes her address and phone number, which are considered personally identifiable information.)\n",
      "3. Vehicle specific: 0 (Although the reviewer mentions specific characteristics of the vehicle, such as its exterior and interior design, these criticisms are relevant to potential buyers.)\n",
      "4. Off topic: 0 (The review focuses on the make and model of the car, providing opinions and experiences related to the 2014 Toyota Camry.)\n",
      "5. Dealership: 1 (The reviewer extensively describes her experience at the car dealership, expressing dissatisfaction with the sales process.)\n",
      "\n",
      "JSON output:\n",
      "{\n",
      "  \"classification\": \"Rejected\",\n",
      "  \"rejection_reason\": {\n",
      "    \"profanity\": 0,\n",
      "    \"personally_identifiable_information\": 1,\n",
      "    \"vehicle_specific\": 0,\n",
      "    \"off_topic\": 0,\n",
      "    \"dealership\": 1\n",
      "  },\n",
      "  \"offending_text\": {\n",
      "    \"profanity\": \"\",\n",
      "    \"personally_identifiable_information\": \"If y'all want to reach out to me for more of my \\\"unfiltered\\\" opinions, you can find me at 456 Sarcasm Avenue or give me a ring at (555) 123-4567.\",\n",
      "    \"vehicle_specific\": \"\",\n",
      "    \"off_topic\": \"\",\n",
      "    \"dealership\": \"So, I wandered into Westside Toyota on 123 Fake Street, where these eager beavers in shiny suits approached me like hungry sharks smelling blood. One slick salesperson pounced on me, spewing sales pitch after sales pitch. It was like being held hostage by an infomercial gone wrong. But hey, I stood my ground and slapped him with my \\\"I ain't messing around\\\" mommy glare.\\n\\nAfter some intense negotiations where I had to channel my inner mama bear, they finally agreed to a \\\"reasonable\\\" deal. They even threw in some floor mats, as if that's the icing on the cake. Well, guess what, fellas? I'd rather decorate my floor with Cat Puke Green than those sorry excuses for floor mats!\"\n",
      "  }\n",
      "}\n"
     ]
    }
   ],
   "source": [
    "# re-run this cell to generate new reviews and moderations\n",
    "from langchain.chains import SimpleSequentialChain\n",
    "overall_chain = SimpleSequentialChain(chains=[review_chain, moderation_chain], verbose=True)\n",
    "permutation_generator = PermutationGenerator()\n",
    "review = overall_chain.run(permutation_generator)\n",
    "print(f\"Review permutation:\\n{permutation_generator.car}\\n{permutation_generator.unprofessional_statuses}\\n\")\n",
    "print(review)"
   ],
   "metadata": {
    "collapsed": false,
    "ExecuteTime": {
     "end_time": "2023-09-09T22:39:46.074703Z",
     "start_time": "2023-09-09T22:39:19.028146Z"
    }
   }
  },
  {
   "cell_type": "code",
   "execution_count": null,
   "outputs": [],
   "source": [],
   "metadata": {
    "collapsed": false
   }
  }
 ],
 "metadata": {
  "kernelspec": {
   "display_name": "Python 3",
   "language": "python",
   "name": "python3"
  },
  "language_info": {
   "codemirror_mode": {
    "name": "ipython",
    "version": 2
   },
   "file_extension": ".py",
   "mimetype": "text/x-python",
   "name": "python",
   "nbconvert_exporter": "python",
   "pygments_lexer": "ipython2",
   "version": "2.7.6"
  }
 },
 "nbformat": 4,
 "nbformat_minor": 0
}
